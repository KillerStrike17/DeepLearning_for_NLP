{
  "nbformat": 4,
  "nbformat_minor": 0,
  "metadata": {
    "colab": {
      "name": "Time Series Prediction.ipynb",
      "provenance": [],
      "collapsed_sections": [],
      "include_colab_link": true
    },
    "kernelspec": {
      "name": "python3",
      "display_name": "Python 3"
    },
    "accelerator": "GPU"
  },
  "cells": [
    {
      "cell_type": "markdown",
      "metadata": {
        "id": "view-in-github",
        "colab_type": "text"
      },
      "source": [
        "<a href=\"https://colab.research.google.com/github/KillerStrike17/DeepLearning_for_NLP/blob/master/Recurrent_Neural_Network_101/Time_Series_Prediction.ipynb\" target=\"_parent\"><img src=\"https://colab.research.google.com/assets/colab-badge.svg\" alt=\"Open In Colab\"/></a>"
      ]
    },
    {
      "cell_type": "markdown",
      "metadata": {
        "id": "_u0PWEXecqf4",
        "colab_type": "text"
      },
      "source": [
        "## Importing Libraries"
      ]
    },
    {
      "cell_type": "code",
      "metadata": {
        "id": "PsRXqXtrZg8j",
        "colab_type": "code",
        "outputId": "ad215f72-23d0-488d-9da0-54a2b6cbd3b4",
        "colab": {
          "base_uri": "https://localhost:8080/",
          "height": 80
        }
      },
      "source": [
        "# Calling the gods\n",
        "\n",
        "%matplotlib inline\n",
        "import pandas as pd\n",
        "import numpy as np\n",
        "import matplotlib.pyplot as plt\n",
        "from keras.models import Sequential\n",
        "from keras.layers import Dense, SimpleRNN"
      ],
      "execution_count": 0,
      "outputs": [
        {
          "output_type": "stream",
          "text": [
            "Using TensorFlow backend.\n"
          ],
          "name": "stderr"
        },
        {
          "output_type": "display_data",
          "data": {
            "text/html": [
              "<p style=\"color: red;\">\n",
              "The default version of TensorFlow in Colab will soon switch to TensorFlow 2.x.<br>\n",
              "We recommend you <a href=\"https://www.tensorflow.org/guide/migrate\" target=\"_blank\">upgrade</a> now \n",
              "or ensure your notebook will continue to use TensorFlow 1.x via the <code>%tensorflow_version 1.x</code> magic:\n",
              "<a href=\"https://colab.research.google.com/notebooks/tensorflow_version.ipynb\" target=\"_blank\">more info</a>.</p>\n"
            ],
            "text/plain": [
              "<IPython.core.display.HTML object>"
            ]
          },
          "metadata": {
            "tags": []
          }
        }
      ]
    },
    {
      "cell_type": "markdown",
      "metadata": {
        "id": "PwG93LsOc4jh",
        "colab_type": "text"
      },
      "source": [
        "## Data Generation\n",
        "\n",
        "Generating a random set of 1000 numbers"
      ]
    },
    {
      "cell_type": "code",
      "metadata": {
        "id": "buL6VQ8QZzeL",
        "colab_type": "code",
        "outputId": "e64fc326-4b74-4a34-fd90-9231e5633c58",
        "colab": {
          "base_uri": "https://localhost:8080/",
          "height": 204
        }
      },
      "source": [
        "step = 5\n",
        "N = 1000    \n",
        "Tp = 800    \n",
        "\n",
        "# Generating data with sine curve and adding some random value to it in range[2,-2]\n",
        "\n",
        "t=np.arange(0,N)\n",
        "# print(\"t:- \",t)\n",
        "# print(np.random.rand(N))\n",
        "x=np.sin(0.02*t)+2*np.random.rand(N)\n",
        "# print(len(x))\n",
        "df = pd.DataFrame(x)\n",
        "df.head()"
      ],
      "execution_count": 0,
      "outputs": [
        {
          "output_type": "execute_result",
          "data": {
            "text/html": [
              "<div>\n",
              "<style scoped>\n",
              "    .dataframe tbody tr th:only-of-type {\n",
              "        vertical-align: middle;\n",
              "    }\n",
              "\n",
              "    .dataframe tbody tr th {\n",
              "        vertical-align: top;\n",
              "    }\n",
              "\n",
              "    .dataframe thead th {\n",
              "        text-align: right;\n",
              "    }\n",
              "</style>\n",
              "<table border=\"1\" class=\"dataframe\">\n",
              "  <thead>\n",
              "    <tr style=\"text-align: right;\">\n",
              "      <th></th>\n",
              "      <th>0</th>\n",
              "    </tr>\n",
              "  </thead>\n",
              "  <tbody>\n",
              "    <tr>\n",
              "      <th>0</th>\n",
              "      <td>1.834616</td>\n",
              "    </tr>\n",
              "    <tr>\n",
              "      <th>1</th>\n",
              "      <td>1.934316</td>\n",
              "    </tr>\n",
              "    <tr>\n",
              "      <th>2</th>\n",
              "      <td>0.534399</td>\n",
              "    </tr>\n",
              "    <tr>\n",
              "      <th>3</th>\n",
              "      <td>1.758429</td>\n",
              "    </tr>\n",
              "    <tr>\n",
              "      <th>4</th>\n",
              "      <td>0.506432</td>\n",
              "    </tr>\n",
              "  </tbody>\n",
              "</table>\n",
              "</div>"
            ],
            "text/plain": [
              "          0\n",
              "0  1.834616\n",
              "1  1.934316\n",
              "2  0.534399\n",
              "3  1.758429\n",
              "4  0.506432"
            ]
          },
          "metadata": {
            "tags": []
          },
          "execution_count": 4
        }
      ]
    },
    {
      "cell_type": "code",
      "metadata": {
        "id": "-b8l_c4sZ02I",
        "colab_type": "code",
        "outputId": "ee52dfe4-2543-4584-968b-cdcef3a845d2",
        "colab": {
          "base_uri": "https://localhost:8080/",
          "height": 265
        }
      },
      "source": [
        "plt.plot(df)\n",
        "plt.show()"
      ],
      "execution_count": 0,
      "outputs": [
        {
          "output_type": "display_data",
          "data": {
            "image/png": "[encoded data removed]",
            "text/plain": [
              "<Figure size 432x288 with 1 Axes>"
            ]
          },
          "metadata": {
            "tags": []
          }
        }
      ]
    },
    {
      "cell_type": "markdown",
      "metadata": {
        "id": "e1MjBG4ac7nu",
        "colab_type": "text"
      },
      "source": [
        "## Dataset Generation\n",
        "\n",
        "Splitting the data in 4 columns as step size is 4, and the target variable is fifth data "
      ]
    },
    {
      "cell_type": "code",
      "metadata": {
        "id": "xexFmDLOZuZg",
        "colab_type": "code",
        "colab": {}
      },
      "source": [
        "# convert into dataset matrix\n",
        "def convertToMatrix(data, step):\n",
        " X, Y =[], []\n",
        " # print(data)\n",
        " for i in range(len(data)-step):\n",
        "  d=i+step \n",
        "  # print(d) \n",
        "  X.append(data[i:d,])\n",
        "  Y.append(data[d,])\n",
        "  # if i == 7:\n",
        "  #   break\n",
        " return np.array(X), np.array(Y)"
      ],
      "execution_count": 0,
      "outputs": []
    },
    {
      "cell_type": "code",
      "metadata": {
        "id": "OETjs_L1Z2zx",
        "colab_type": "code",
        "colab": {}
      },
      "source": [
        "values=df.values\n",
        "train,test = values[0:Tp,:], values[Tp:N,:]\n",
        "\n",
        "\n",
        "# print(test)\n",
        "# add step elements into train and test\n",
        "\n",
        "test = np.append(test,np.repeat(test[-1,],step))\n",
        "train = np.append(train,np.repeat(train[-1,],step))\n",
        "# print(train)\n",
        "\n",
        "\n",
        "trainX,trainY =convertToMatrix(train,step)\n",
        "testX,testY =convertToMatrix(test,step)\n",
        "\n",
        "# print(trainX)\n",
        "# print(trainX.shape)\n",
        "# print(trainY)\n",
        "# print(trainY.shape)\n",
        "\n",
        "# print(testX)\n",
        "# print(testX.shape)\n",
        "# print(testY)\n",
        "# print(testY.shape)\n",
        "trainX = np.reshape(trainX, (trainX.shape[0], 1, trainX.shape[1]))\n",
        "testX = np.reshape(testX, (testX.shape[0], 1, testX.shape[1]))"
      ],
      "execution_count": 0,
      "outputs": []
    },
    {
      "cell_type": "markdown",
      "metadata": {
        "id": "yuAFGRncdBqw",
        "colab_type": "text"
      },
      "source": [
        "## Develop and Train the Model\n",
        "\n",
        "Developed a simple RNN Network with loss as MSE"
      ]
    },
    {
      "cell_type": "code",
      "metadata": {
        "id": "AcKtwCCHZ4Ww",
        "colab_type": "code",
        "outputId": "afd45f7e-fddb-40f6-f17b-a831f5a8f251",
        "colab": {
          "base_uri": "https://localhost:8080/",
          "height": 255
        }
      },
      "source": [
        "model = Sequential()\n",
        "model.add(SimpleRNN(units=32, input_shape=(1,step), activation=\"sigmoid\"))\n",
        "# model.add(SimpleRNN(units = 64,return_sequences=True))\n",
        "# model.add(SimpleRNN(units = 32))\n",
        "model.add(Dense(8, activation=\"sigmoid\")) \n",
        "model.add(Dense(1))\n",
        "model.compile(loss='mean_squared_error', optimizer='rmsprop')\n",
        "model.summary()"
      ],
      "execution_count": 0,
      "outputs": [
        {
          "output_type": "stream",
          "text": [
            "Model: \"sequential_12\"\n",
            "_________________________________________________________________\n",
            "Layer (type)                 Output Shape              Param #   \n",
            "=================================================================\n",
            "simple_rnn_18 (SimpleRNN)    (None, 32)                1216      \n",
            "_________________________________________________________________\n",
            "dense_21 (Dense)             (None, 8)                 264       \n",
            "_________________________________________________________________\n",
            "dense_22 (Dense)             (None, 1)                 9         \n",
            "=================================================================\n",
            "Total params: 1,489\n",
            "Trainable params: 1,489\n",
            "Non-trainable params: 0\n",
            "_________________________________________________________________\n"
          ],
          "name": "stdout"
        }
      ]
    },
    {
      "cell_type": "code",
      "metadata": {
        "id": "tsF5r8eQZ6kr",
        "colab_type": "code",
        "outputId": "c7d6bc63-b500-4d73-f49c-65727d89e859",
        "colab": {
          "base_uri": "https://localhost:8080/",
          "height": 1000
        }
      },
      "source": [
        "model.fit(trainX,trainY,validation_data=(testX,testY), epochs=100, batch_size=32, verbose=1)\n",
        "trainPredict = model.predict(trainX)\n",
        "testPredict= model.predict(testX)\n",
        "print(testPredict.shape)\n",
        "predicted=np.concatenate((trainPredict,testPredict),axis=0)\n",
        "trainScore = model.evaluate(testX, testY, verbose=0)\n"
      ],
      "execution_count": 0,
      "outputs": [
        {
          "output_type": "stream",
          "text": [
            "Train on 800 samples, validate on 200 samples\n",
            "Epoch 1/100\n",
            "800/800 [==============================] - 1s 1ms/step - loss: 3.3415 - val_loss: 1.5987\n",
            "Epoch 2/100\n",
            "800/800 [==============================] - 0s 139us/step - loss: 2.2805 - val_loss: 1.0820\n",
            "Epoch 3/100\n",
            "800/800 [==============================] - 0s 130us/step - loss: 1.6251 - val_loss: 0.7878\n",
            "Epoch 4/100\n",
            "800/800 [==============================] - 0s 135us/step - loss: 1.2148 - val_loss: 0.6555\n",
            "Epoch 5/100\n",
            "800/800 [==============================] - 0s 143us/step - loss: 0.9759 - val_loss: 0.6217\n",
            "Epoch 6/100\n",
            "800/800 [==============================] - 0s 135us/step - loss: 0.8418 - val_loss: 0.6402\n",
            "Epoch 7/100\n",
            "800/800 [==============================] - 0s 133us/step - loss: 0.7723 - val_loss: 0.6690\n",
            "Epoch 8/100\n",
            "800/800 [==============================] - 0s 142us/step - loss: 0.7341 - val_loss: 0.6886\n",
            "Epoch 9/100\n",
            "800/800 [==============================] - 0s 155us/step - loss: 0.7041 - val_loss: 0.6744\n",
            "Epoch 10/100\n",
            "800/800 [==============================] - 0s 139us/step - loss: 0.6741 - val_loss: 0.6438\n",
            "Epoch 11/100\n",
            "800/800 [==============================] - 0s 141us/step - loss: 0.6461 - val_loss: 0.6195\n",
            "Epoch 12/100\n",
            "800/800 [==============================] - 0s 137us/step - loss: 0.6157 - val_loss: 0.5762\n",
            "Epoch 13/100\n",
            "800/800 [==============================] - 0s 131us/step - loss: 0.5885 - val_loss: 0.5574\n",
            "Epoch 14/100\n",
            "800/800 [==============================] - 0s 137us/step - loss: 0.5596 - val_loss: 0.5107\n",
            "Epoch 15/100\n",
            "800/800 [==============================] - 0s 135us/step - loss: 0.5318 - val_loss: 0.4875\n",
            "Epoch 16/100\n",
            "800/800 [==============================] - 0s 133us/step - loss: 0.5082 - val_loss: 0.4808\n",
            "Epoch 17/100\n",
            "800/800 [==============================] - 0s 126us/step - loss: 0.4876 - val_loss: 0.4445\n",
            "Epoch 18/100\n",
            "800/800 [==============================] - 0s 139us/step - loss: 0.4729 - val_loss: 0.4474\n",
            "Epoch 19/100\n",
            "800/800 [==============================] - 0s 153us/step - loss: 0.4612 - val_loss: 0.4349\n",
            "Epoch 20/100\n",
            "800/800 [==============================] - 0s 137us/step - loss: 0.4523 - val_loss: 0.4287\n",
            "Epoch 21/100\n",
            "800/800 [==============================] - 0s 131us/step - loss: 0.4443 - val_loss: 0.4206\n",
            "Epoch 22/100\n",
            "800/800 [==============================] - 0s 135us/step - loss: 0.4391 - val_loss: 0.4237\n",
            "Epoch 23/100\n",
            "800/800 [==============================] - 0s 134us/step - loss: 0.4353 - val_loss: 0.4165\n",
            "Epoch 24/100\n",
            "800/800 [==============================] - 0s 137us/step - loss: 0.4303 - val_loss: 0.4119\n",
            "Epoch 25/100\n",
            "800/800 [==============================] - 0s 136us/step - loss: 0.4269 - val_loss: 0.4161\n",
            "Epoch 26/100\n",
            "800/800 [==============================] - 0s 137us/step - loss: 0.4247 - val_loss: 0.4105\n",
            "Epoch 27/100\n",
            "800/800 [==============================] - 0s 124us/step - loss: 0.4215 - val_loss: 0.4138\n",
            "Epoch 28/100\n",
            "800/800 [==============================] - 0s 142us/step - loss: 0.4196 - val_loss: 0.4108\n",
            "Epoch 29/100\n",
            "800/800 [==============================] - 0s 132us/step - loss: 0.4181 - val_loss: 0.4035\n",
            "Epoch 30/100\n",
            "800/800 [==============================] - 0s 129us/step - loss: 0.4159 - val_loss: 0.3993\n",
            "Epoch 31/100\n",
            "800/800 [==============================] - 0s 130us/step - loss: 0.4139 - val_loss: 0.3948\n",
            "Epoch 32/100\n",
            "800/800 [==============================] - 0s 127us/step - loss: 0.4121 - val_loss: 0.3963\n",
            "Epoch 33/100\n",
            "800/800 [==============================] - 0s 136us/step - loss: 0.4105 - val_loss: 0.3908\n",
            "Epoch 34/100\n",
            "800/800 [==============================] - 0s 163us/step - loss: 0.4097 - val_loss: 0.3950\n",
            "Epoch 35/100\n",
            "800/800 [==============================] - 0s 157us/step - loss: 0.4081 - val_loss: 0.3880\n",
            "Epoch 36/100\n",
            "800/800 [==============================] - 0s 157us/step - loss: 0.4070 - val_loss: 0.3905\n",
            "Epoch 37/100\n",
            "800/800 [==============================] - 0s 182us/step - loss: 0.4070 - val_loss: 0.3882\n",
            "Epoch 38/100\n",
            "800/800 [==============================] - 0s 140us/step - loss: 0.4064 - val_loss: 0.3874\n",
            "Epoch 39/100\n",
            "800/800 [==============================] - 0s 133us/step - loss: 0.4044 - val_loss: 0.3844\n",
            "Epoch 40/100\n",
            "800/800 [==============================] - 0s 134us/step - loss: 0.4043 - val_loss: 0.3837\n",
            "Epoch 41/100\n",
            "800/800 [==============================] - 0s 134us/step - loss: 0.4036 - val_loss: 0.3887\n",
            "Epoch 42/100\n",
            "800/800 [==============================] - 0s 137us/step - loss: 0.4021 - val_loss: 0.3808\n",
            "Epoch 43/100\n",
            "800/800 [==============================] - 0s 137us/step - loss: 0.4030 - val_loss: 0.3838\n",
            "Epoch 44/100\n",
            "800/800 [==============================] - 0s 132us/step - loss: 0.4021 - val_loss: 0.3802\n",
            "Epoch 45/100\n",
            "800/800 [==============================] - 0s 140us/step - loss: 0.4015 - val_loss: 0.3867\n",
            "Epoch 46/100\n",
            "800/800 [==============================] - 0s 142us/step - loss: 0.4020 - val_loss: 0.3793\n",
            "Epoch 47/100\n",
            "800/800 [==============================] - 0s 135us/step - loss: 0.4016 - val_loss: 0.3790\n",
            "Epoch 48/100\n",
            "800/800 [==============================] - 0s 124us/step - loss: 0.4004 - val_loss: 0.3773\n",
            "Epoch 49/100\n",
            "800/800 [==============================] - 0s 137us/step - loss: 0.4012 - val_loss: 0.3790\n",
            "Epoch 50/100\n",
            "800/800 [==============================] - 0s 137us/step - loss: 0.4007 - val_loss: 0.3767\n",
            "Epoch 51/100\n",
            "800/800 [==============================] - 0s 138us/step - loss: 0.4000 - val_loss: 0.3755\n",
            "Epoch 52/100\n",
            "800/800 [==============================] - 0s 126us/step - loss: 0.4001 - val_loss: 0.3751\n",
            "Epoch 53/100\n",
            "800/800 [==============================] - 0s 144us/step - loss: 0.4003 - val_loss: 0.3758\n",
            "Epoch 54/100\n",
            "800/800 [==============================] - 0s 128us/step - loss: 0.3989 - val_loss: 0.3813\n",
            "Epoch 55/100\n",
            "800/800 [==============================] - 0s 142us/step - loss: 0.3974 - val_loss: 0.3874\n",
            "Epoch 56/100\n",
            "800/800 [==============================] - 0s 136us/step - loss: 0.3993 - val_loss: 0.3827\n",
            "Epoch 57/100\n",
            "800/800 [==============================] - 0s 137us/step - loss: 0.3999 - val_loss: 0.3788\n",
            "Epoch 58/100\n",
            "800/800 [==============================] - 0s 143us/step - loss: 0.3988 - val_loss: 0.3735\n",
            "Epoch 59/100\n",
            "800/800 [==============================] - 0s 132us/step - loss: 0.3986 - val_loss: 0.3742\n",
            "Epoch 60/100\n",
            "800/800 [==============================] - 0s 131us/step - loss: 0.3990 - val_loss: 0.3744\n",
            "Epoch 61/100\n",
            "800/800 [==============================] - 0s 130us/step - loss: 0.3985 - val_loss: 0.3727\n",
            "Epoch 62/100\n",
            "800/800 [==============================] - 0s 139us/step - loss: 0.3984 - val_loss: 0.3718\n",
            "Epoch 63/100\n",
            "800/800 [==============================] - 0s 137us/step - loss: 0.3972 - val_loss: 0.3759\n",
            "Epoch 64/100\n",
            "800/800 [==============================] - 0s 140us/step - loss: 0.3984 - val_loss: 0.3750\n",
            "Epoch 65/100\n",
            "800/800 [==============================] - 0s 137us/step - loss: 0.3979 - val_loss: 0.3713\n",
            "Epoch 66/100\n",
            "800/800 [==============================] - 0s 142us/step - loss: 0.3976 - val_loss: 0.3741\n",
            "Epoch 67/100\n",
            "800/800 [==============================] - 0s 128us/step - loss: 0.3982 - val_loss: 0.3718\n",
            "Epoch 68/100\n",
            "800/800 [==============================] - 0s 132us/step - loss: 0.3969 - val_loss: 0.3709\n",
            "Epoch 69/100\n",
            "800/800 [==============================] - 0s 129us/step - loss: 0.3976 - val_loss: 0.3721\n",
            "Epoch 70/100\n",
            "800/800 [==============================] - 0s 133us/step - loss: 0.3961 - val_loss: 0.3698\n",
            "Epoch 71/100\n",
            "800/800 [==============================] - 0s 130us/step - loss: 0.3975 - val_loss: 0.3714\n",
            "Epoch 72/100\n",
            "800/800 [==============================] - 0s 137us/step - loss: 0.3968 - val_loss: 0.3700\n",
            "Epoch 73/100\n",
            "800/800 [==============================] - 0s 134us/step - loss: 0.3968 - val_loss: 0.3721\n",
            "Epoch 74/100\n",
            "800/800 [==============================] - 0s 140us/step - loss: 0.3971 - val_loss: 0.3722\n",
            "Epoch 75/100\n",
            "800/800 [==============================] - 0s 131us/step - loss: 0.3970 - val_loss: 0.3737\n",
            "Epoch 76/100\n",
            "800/800 [==============================] - 0s 142us/step - loss: 0.3977 - val_loss: 0.3714\n",
            "Epoch 77/100\n",
            "800/800 [==============================] - 0s 140us/step - loss: 0.3965 - val_loss: 0.3686\n",
            "Epoch 78/100\n",
            "800/800 [==============================] - 0s 131us/step - loss: 0.3952 - val_loss: 0.3735\n",
            "Epoch 79/100\n",
            "800/800 [==============================] - 0s 129us/step - loss: 0.3974 - val_loss: 0.3720\n",
            "Epoch 80/100\n",
            "800/800 [==============================] - 0s 133us/step - loss: 0.3975 - val_loss: 0.3702\n",
            "Epoch 81/100\n",
            "800/800 [==============================] - 0s 146us/step - loss: 0.3966 - val_loss: 0.3695\n",
            "Epoch 82/100\n",
            "800/800 [==============================] - 0s 135us/step - loss: 0.3964 - val_loss: 0.3688\n",
            "Epoch 83/100\n",
            "800/800 [==============================] - 0s 145us/step - loss: 0.3957 - val_loss: 0.3711\n",
            "Epoch 84/100\n",
            "800/800 [==============================] - 0s 131us/step - loss: 0.3961 - val_loss: 0.3696\n",
            "Epoch 85/100\n",
            "800/800 [==============================] - 0s 129us/step - loss: 0.3966 - val_loss: 0.3678\n",
            "Epoch 86/100\n",
            "800/800 [==============================] - 0s 126us/step - loss: 0.3971 - val_loss: 0.3692\n",
            "Epoch 87/100\n",
            "800/800 [==============================] - 0s 128us/step - loss: 0.3963 - val_loss: 0.3699\n",
            "Epoch 88/100\n",
            "800/800 [==============================] - 0s 146us/step - loss: 0.3968 - val_loss: 0.3683\n",
            "Epoch 89/100\n",
            "800/800 [==============================] - 0s 130us/step - loss: 0.3939 - val_loss: 0.3677\n",
            "Epoch 90/100\n",
            "800/800 [==============================] - 0s 127us/step - loss: 0.3969 - val_loss: 0.3690\n",
            "Epoch 91/100\n",
            "800/800 [==============================] - 0s 138us/step - loss: 0.3970 - val_loss: 0.3676\n",
            "Epoch 92/100\n",
            "800/800 [==============================] - 0s 139us/step - loss: 0.3951 - val_loss: 0.3666\n",
            "Epoch 93/100\n",
            "800/800 [==============================] - 0s 145us/step - loss: 0.3954 - val_loss: 0.3670\n",
            "Epoch 94/100\n",
            "800/800 [==============================] - 0s 135us/step - loss: 0.3962 - val_loss: 0.3667\n",
            "Epoch 95/100\n",
            "800/800 [==============================] - 0s 145us/step - loss: 0.3966 - val_loss: 0.3673\n",
            "Epoch 96/100\n",
            "800/800 [==============================] - 0s 139us/step - loss: 0.3966 - val_loss: 0.3685\n",
            "Epoch 97/100\n",
            "800/800 [==============================] - 0s 145us/step - loss: 0.3964 - val_loss: 0.3695\n",
            "Epoch 98/100\n",
            "800/800 [==============================] - 0s 142us/step - loss: 0.3956 - val_loss: 0.3672\n",
            "Epoch 99/100\n",
            "800/800 [==============================] - 0s 141us/step - loss: 0.3959 - val_loss: 0.3673\n",
            "Epoch 100/100\n",
            "800/800 [==============================] - 0s 143us/step - loss: 0.3957 - val_loss: 0.3664\n",
            "(200, 1)\n"
          ],
          "name": "stdout"
        }
      ]
    },
    {
      "cell_type": "markdown",
      "metadata": {
        "id": "lN25c0ZHdR-v",
        "colab_type": "text"
      },
      "source": [
        "## Outputs using various Optimizers and final Plot using RMSProp\n",
        "\n",
        "Applied various optimizers like RMSProp, Adagrad, Adam and Adadelta to check the difference and plotted the final output using RMSProp as it gave the least error rate"
      ]
    },
    {
      "cell_type": "code",
      "metadata": {
        "id": "YLWqUKZluW7-",
        "colab_type": "code",
        "outputId": "58b5ebdd-8e7b-4c10-cb31-a76ead14ae5e",
        "colab": {
          "base_uri": "https://localhost:8080/",
          "height": 34
        }
      },
      "source": [
        "print(trainScore) # RMSProp"
      ],
      "execution_count": 0,
      "outputs": [
        {
          "output_type": "stream",
          "text": [
            "0.38387733459472656\n"
          ],
          "name": "stdout"
        }
      ]
    },
    {
      "cell_type": "code",
      "metadata": {
        "id": "zuWdRPTOugTd",
        "colab_type": "code",
        "outputId": "b9d51301-ebf8-4356-d8fd-c7707a04cdb5",
        "colab": {
          "base_uri": "https://localhost:8080/",
          "height": 34
        }
      },
      "source": [
        "print(trainScore) #Adagrad"
      ],
      "execution_count": 0,
      "outputs": [
        {
          "output_type": "stream",
          "text": [
            "0.38390427708625796\n"
          ],
          "name": "stdout"
        }
      ]
    },
    {
      "cell_type": "code",
      "metadata": {
        "id": "_ybQGOJ_up2l",
        "colab_type": "code",
        "outputId": "c7a09ff1-f798-40a1-80ba-4109f4245c48",
        "colab": {
          "base_uri": "https://localhost:8080/",
          "height": 34
        }
      },
      "source": [
        "print(trainScore) #Adam"
      ],
      "execution_count": 0,
      "outputs": [
        {
          "output_type": "stream",
          "text": [
            "0.4260824939608574\n"
          ],
          "name": "stdout"
        }
      ]
    },
    {
      "cell_type": "code",
      "metadata": {
        "id": "jAuSf6KivI73",
        "colab_type": "code",
        "outputId": "0894e8f6-2432-4d0d-ceba-6c64a396bbc0",
        "colab": {
          "base_uri": "https://localhost:8080/",
          "height": 34
        }
      },
      "source": [
        "print(trainScore) #Adadelta"
      ],
      "execution_count": 0,
      "outputs": [
        {
          "output_type": "stream",
          "text": [
            "0.3889714699983597\n"
          ],
          "name": "stdout"
        }
      ]
    },
    {
      "cell_type": "code",
      "metadata": {
        "id": "GlxseXMaZ8B0",
        "colab_type": "code",
        "outputId": "f93e40c2-9595-4992-f32f-9f38d82c56e3",
        "colab": {
          "base_uri": "https://localhost:8080/",
          "height": 282
        }
      },
      "source": [
        "index = df.index.values\n",
        "print(predicted.shape)\n",
        "plt.plot(index,df)\n",
        "plt.plot(index,predicted)\n",
        "plt.axvline(df.index[Tp], c=\"r\")\n",
        "plt.show()"
      ],
      "execution_count": 0,
      "outputs": [
        {
          "output_type": "stream",
          "text": [
            "(1000, 1)\n"
          ],
          "name": "stdout"
        },
        {
          "output_type": "display_data",
          "data": {
            "image/png": "[encoded data removed]",
            "text/plain": [
              "<Figure size 432x288 with 1 Axes>"
            ]
          },
          "metadata": {
            "tags": []
          }
        }
      ]
    }
  ]
}