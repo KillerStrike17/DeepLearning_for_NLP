{
  "nbformat": 4,
  "nbformat_minor": 0,
  "metadata": {
    "colab": {
      "name": "Time Series Prediction.ipynb",
      "provenance": [],
      "collapsed_sections": [
        "M6qf0Bj00bD3",
        "4i1kB2rQ1ogU",
        "0qusrag02JyV"
      ],
      "toc_visible": true,
      "include_colab_link": true
    },
    "kernelspec": {
      "name": "python3",
      "display_name": "Python 3"
    },
    "accelerator": "GPU"
  },
  "cells": [
    {
      "cell_type": "markdown",
      "metadata": {
        "id": "view-in-github",
        "colab_type": "text"
      },
      "source": [
        "<a href=\"https://colab.research.google.com/github/KillerStrike17/DeepLearning_for_NLP/blob/master/Recurrent_Neural_Networks_101/Time_Series_Prediction.ipynb\" target=\"_parent\"><img src=\"https://colab.research.google.com/assets/colab-badge.svg\" alt=\"Open In Colab\"/></a>"
      ]
    },
    {
      "cell_type": "markdown",
      "metadata": {
        "id": "_u0PWEXecqf4",
        "colab_type": "text"
      },
      "source": [
        "## Importing Libraries"
      ]
    },
    {
      "cell_type": "code",
      "metadata": {
        "id": "KZ8oR8fp00V6",
        "colab_type": "code",
        "colab": {
          "base_uri": "https://localhost:8080/",
          "height": 289
        },
        "outputId": "65c49944-c1d5-4f06-a43f-5b64d1c7374d"
      },
      "source": [
        "!nvidia-smi"
      ],
      "execution_count": 8,
      "outputs": [
        {
          "output_type": "stream",
          "text": [
            "Mon Feb  3 06:53:31 2020       \n",
            "+-----------------------------------------------------------------------------+\n",
            "| NVIDIA-SMI 440.44       Driver Version: 418.67       CUDA Version: 10.1     |\n",
            "|-------------------------------+----------------------+----------------------+\n",
            "| GPU  Name        Persistence-M| Bus-Id        Disp.A | Volatile Uncorr. ECC |\n",
            "| Fan  Temp  Perf  Pwr:Usage/Cap|         Memory-Usage | GPU-Util  Compute M. |\n",
            "|===============================+======================+======================|\n",
            "|   0  Tesla P100-PCIE...  Off  | 00000000:00:04.0 Off |                    0 |\n",
            "| N/A   38C    P0    33W / 250W |    355MiB / 16280MiB |      0%      Default |\n",
            "+-------------------------------+----------------------+----------------------+\n",
            "                                                                               \n",
            "+-----------------------------------------------------------------------------+\n",
            "| Processes:                                                       GPU Memory |\n",
            "|  GPU       PID   Type   Process name                             Usage      |\n",
            "|=============================================================================|\n",
            "+-----------------------------------------------------------------------------+\n"
          ],
          "name": "stdout"
        }
      ]
    },
    {
      "cell_type": "code",
      "metadata": {
        "id": "PsRXqXtrZg8j",
        "colab_type": "code",
        "colab": {}
      },
      "source": [
        "# Calling the gods\n",
        "\n",
        "%matplotlib inline\n",
        "import pandas as pd\n",
        "import numpy as np\n",
        "import matplotlib.pyplot as plt\n",
        "from keras.models import Sequential\n",
        "from keras.layers import Dense, SimpleRNN"
      ],
      "execution_count": 0,
      "outputs": []
    },
    {
      "cell_type": "markdown",
      "metadata": {
        "id": "PwG93LsOc4jh",
        "colab_type": "text"
      },
      "source": [
        "## Data Generation\n",
        "\n",
        "Generating a random set of 1000 numbers"
      ]
    },
    {
      "cell_type": "code",
      "metadata": {
        "id": "buL6VQ8QZzeL",
        "colab_type": "code",
        "outputId": "e4636f81-dd60-4157-aba8-37c5651fd844",
        "colab": {
          "base_uri": "https://localhost:8080/",
          "height": 204
        }
      },
      "source": [
        "step = 4\n",
        "N = 1000    \n",
        "Tp = 800    \n",
        "\n",
        "# Generating data with sine curve and adding some random value to it in range[2,-2]\n",
        "\n",
        "t=np.arange(0,N)\n",
        "# print(\"t:- \",t)\n",
        "# print(np.random.rand(N))\n",
        "x=np.sin(0.02*t)+2*np.random.rand(N)\n",
        "# print(len(x))\n",
        "df = pd.DataFrame(x)\n",
        "df.head()"
      ],
      "execution_count": 10,
      "outputs": [
        {
          "output_type": "execute_result",
          "data": {
            "text/html": [
              "<div>\n",
              "<style scoped>\n",
              "    .dataframe tbody tr th:only-of-type {\n",
              "        vertical-align: middle;\n",
              "    }\n",
              "\n",
              "    .dataframe tbody tr th {\n",
              "        vertical-align: top;\n",
              "    }\n",
              "\n",
              "    .dataframe thead th {\n",
              "        text-align: right;\n",
              "    }\n",
              "</style>\n",
              "<table border=\"1\" class=\"dataframe\">\n",
              "  <thead>\n",
              "    <tr style=\"text-align: right;\">\n",
              "      <th></th>\n",
              "      <th>0</th>\n",
              "    </tr>\n",
              "  </thead>\n",
              "  <tbody>\n",
              "    <tr>\n",
              "      <th>0</th>\n",
              "      <td>0.900301</td>\n",
              "    </tr>\n",
              "    <tr>\n",
              "      <th>1</th>\n",
              "      <td>0.351975</td>\n",
              "    </tr>\n",
              "    <tr>\n",
              "      <th>2</th>\n",
              "      <td>0.651925</td>\n",
              "    </tr>\n",
              "    <tr>\n",
              "      <th>3</th>\n",
              "      <td>0.831095</td>\n",
              "    </tr>\n",
              "    <tr>\n",
              "      <th>4</th>\n",
              "      <td>0.701821</td>\n",
              "    </tr>\n",
              "  </tbody>\n",
              "</table>\n",
              "</div>"
            ],
            "text/plain": [
              "          0\n",
              "0  0.900301\n",
              "1  0.351975\n",
              "2  0.651925\n",
              "3  0.831095\n",
              "4  0.701821"
            ]
          },
          "metadata": {
            "tags": []
          },
          "execution_count": 10
        }
      ]
    },
    {
      "cell_type": "code",
      "metadata": {
        "id": "-b8l_c4sZ02I",
        "colab_type": "code",
        "outputId": "a531dc51-027a-4624-8364-8878ae774ceb",
        "colab": {
          "base_uri": "https://localhost:8080/",
          "height": 265
        }
      },
      "source": [
        "plt.plot(df)\n",
        "plt.show()"
      ],
      "execution_count": 11,
      "outputs": [
        {
          "output_type": "display_data",
          "data": {
            "image/png": "[encoded data removed]",
            "text/plain": [
              "<Figure size 432x288 with 1 Axes>"
            ]
          },
          "metadata": {
            "tags": []
          }
        }
      ]
    },
    {
      "cell_type": "markdown",
      "metadata": {
        "id": "e1MjBG4ac7nu",
        "colab_type": "text"
      },
      "source": [
        "## Dataset Generation\n",
        "\n",
        "Splitting the data in 4 columns as step size is 4, and the target variable is fifth data "
      ]
    },
    {
      "cell_type": "code",
      "metadata": {
        "id": "xexFmDLOZuZg",
        "colab_type": "code",
        "colab": {}
      },
      "source": [
        "# convert into dataset matrix\n",
        "def convertToMatrix(data, step):\n",
        " X, Y =[], []\n",
        " # print(data)\n",
        " for i in range(len(data)-step):\n",
        "  d=i+step \n",
        "  # print(d) \n",
        "  X.append(data[i:d,])\n",
        "  Y.append(data[d,])\n",
        "  # if i == 7:\n",
        "  #   break\n",
        " return np.array(X), np.array(Y)"
      ],
      "execution_count": 0,
      "outputs": []
    },
    {
      "cell_type": "code",
      "metadata": {
        "id": "OETjs_L1Z2zx",
        "colab_type": "code",
        "colab": {}
      },
      "source": [
        "values=df.values\n",
        "train,test = values[0:Tp,:], values[Tp:N,:]\n",
        "\n",
        "\n",
        "# print(test)\n",
        "# add step elements into train and test\n",
        "\n",
        "test = np.append(test,np.repeat(test[-1,],step))\n",
        "train = np.append(train,np.repeat(train[-1,],step))\n",
        "# print(train)\n",
        "\n",
        "\n",
        "trainX,trainY =convertToMatrix(train,step)\n",
        "testX,testY =convertToMatrix(test,step)\n",
        "\n",
        "# print(trainX)\n",
        "# print(trainX.shape)\n",
        "# print(trainY)\n",
        "# print(trainY.shape)\n",
        "\n",
        "# print(testX)\n",
        "# print(testX.shape)\n",
        "# print(testY)\n",
        "# print(testY.shape)\n",
        "trainX = np.reshape(trainX, (trainX.shape[0], 1, trainX.shape[1]))\n",
        "testX = np.reshape(testX, (testX.shape[0], 1, testX.shape[1]))"
      ],
      "execution_count": 0,
      "outputs": []
    },
    {
      "cell_type": "markdown",
      "metadata": {
        "id": "yuAFGRncdBqw",
        "colab_type": "text"
      },
      "source": [
        "## Develop and Train the Model\n",
        "\n",
        "Developed a simple RNN Network with loss as MSE"
      ]
    },
    {
      "cell_type": "code",
      "metadata": {
        "id": "AcKtwCCHZ4Ww",
        "colab_type": "code",
        "outputId": "61725b02-84aa-4c08-b03a-2bc30c8a3b33",
        "colab": {
          "base_uri": "https://localhost:8080/",
          "height": 255
        }
      },
      "source": [
        "model = Sequential()\n",
        "model.add(SimpleRNN(units=32, input_shape=(1,step), activation=\"relu\"))\n",
        "# model.add(SimpleRNN(units = 64,return_sequences=True))\n",
        "# model.add(SimpleRNN(units = 32))\n",
        "model.add(Dense(8, activation=\"relu\")) \n",
        "model.add(Dense(1))\n",
        "model.compile(loss='mean_squared_error', optimizer='rmsprop')\n",
        "model.summary()"
      ],
      "execution_count": 41,
      "outputs": [
        {
          "output_type": "stream",
          "text": [
            "Model: \"sequential_6\"\n",
            "_________________________________________________________________\n",
            "Layer (type)                 Output Shape              Param #   \n",
            "=================================================================\n",
            "simple_rnn_6 (SimpleRNN)     (None, 32)                1184      \n",
            "_________________________________________________________________\n",
            "dense_11 (Dense)             (None, 8)                 264       \n",
            "_________________________________________________________________\n",
            "dense_12 (Dense)             (None, 1)                 9         \n",
            "=================================================================\n",
            "Total params: 1,457\n",
            "Trainable params: 1,457\n",
            "Non-trainable params: 0\n",
            "_________________________________________________________________\n"
          ],
          "name": "stdout"
        }
      ]
    },
    {
      "cell_type": "code",
      "metadata": {
        "id": "tsF5r8eQZ6kr",
        "colab_type": "code",
        "outputId": "01478055-68d3-4469-fb4d-051ff3bac2e2",
        "colab": {
          "base_uri": "https://localhost:8080/",
          "height": 1000
        }
      },
      "source": [
        "model.fit(trainX,trainY,validation_data=(testX,testY), epochs=100, batch_size=32, verbose=1)\n",
        "trainPredict = model.predict(trainX)\n",
        "testPredict= model.predict(testX)\n",
        "print(testPredict.shape)\n",
        "predicted=np.concatenate((trainPredict,testPredict),axis=0)\n",
        "trainScore = model.evaluate(testX, testY, verbose=0)\n"
      ],
      "execution_count": 42,
      "outputs": [
        {
          "output_type": "stream",
          "text": [
            "Train on 800 samples, validate on 200 samples\n",
            "Epoch 1/100\n",
            "800/800 [==============================] - 1s 693us/step - loss: 0.8384 - val_loss: 0.4199\n",
            "Epoch 2/100\n",
            "800/800 [==============================] - 0s 124us/step - loss: 0.4120 - val_loss: 0.4068\n",
            "Epoch 3/100\n",
            "800/800 [==============================] - 0s 141us/step - loss: 0.3961 - val_loss: 0.3925\n",
            "Epoch 4/100\n",
            "800/800 [==============================] - 0s 138us/step - loss: 0.3898 - val_loss: 0.3899\n",
            "Epoch 5/100\n",
            "800/800 [==============================] - 0s 141us/step - loss: 0.3862 - val_loss: 0.3862\n",
            "Epoch 6/100\n",
            "800/800 [==============================] - 0s 123us/step - loss: 0.3798 - val_loss: 0.3821\n",
            "Epoch 7/100\n",
            "800/800 [==============================] - 0s 126us/step - loss: 0.3771 - val_loss: 0.3795\n",
            "Epoch 8/100\n",
            "800/800 [==============================] - 0s 129us/step - loss: 0.3730 - val_loss: 0.3868\n",
            "Epoch 9/100\n",
            "800/800 [==============================] - 0s 129us/step - loss: 0.3749 - val_loss: 0.3770\n",
            "Epoch 10/100\n",
            "800/800 [==============================] - 0s 126us/step - loss: 0.3711 - val_loss: 0.3774\n",
            "Epoch 11/100\n",
            "800/800 [==============================] - 0s 123us/step - loss: 0.3707 - val_loss: 0.3769\n",
            "Epoch 12/100\n",
            "800/800 [==============================] - 0s 127us/step - loss: 0.3691 - val_loss: 0.3779\n",
            "Epoch 13/100\n",
            "800/800 [==============================] - 0s 126us/step - loss: 0.3675 - val_loss: 0.3770\n",
            "Epoch 14/100\n",
            "800/800 [==============================] - 0s 136us/step - loss: 0.3667 - val_loss: 0.3755\n",
            "Epoch 15/100\n",
            "800/800 [==============================] - 0s 129us/step - loss: 0.3668 - val_loss: 0.3786\n",
            "Epoch 16/100\n",
            "800/800 [==============================] - 0s 130us/step - loss: 0.3678 - val_loss: 0.3769\n",
            "Epoch 17/100\n",
            "800/800 [==============================] - 0s 122us/step - loss: 0.3675 - val_loss: 0.3763\n",
            "Epoch 18/100\n",
            "800/800 [==============================] - 0s 139us/step - loss: 0.3641 - val_loss: 0.3757\n",
            "Epoch 19/100\n",
            "800/800 [==============================] - 0s 136us/step - loss: 0.3628 - val_loss: 0.3774\n",
            "Epoch 20/100\n",
            "800/800 [==============================] - 0s 122us/step - loss: 0.3627 - val_loss: 0.3752\n",
            "Epoch 21/100\n",
            "800/800 [==============================] - 0s 129us/step - loss: 0.3625 - val_loss: 0.3747\n",
            "Epoch 22/100\n",
            "800/800 [==============================] - 0s 130us/step - loss: 0.3626 - val_loss: 0.3745\n",
            "Epoch 23/100\n",
            "800/800 [==============================] - 0s 144us/step - loss: 0.3608 - val_loss: 0.3754\n",
            "Epoch 24/100\n",
            "800/800 [==============================] - 0s 139us/step - loss: 0.3615 - val_loss: 0.3763\n",
            "Epoch 25/100\n",
            "800/800 [==============================] - 0s 132us/step - loss: 0.3605 - val_loss: 0.3745\n",
            "Epoch 26/100\n",
            "800/800 [==============================] - 0s 129us/step - loss: 0.3600 - val_loss: 0.3752\n",
            "Epoch 27/100\n",
            "800/800 [==============================] - 0s 131us/step - loss: 0.3572 - val_loss: 0.3740\n",
            "Epoch 28/100\n",
            "800/800 [==============================] - 0s 134us/step - loss: 0.3603 - val_loss: 0.3743\n",
            "Epoch 29/100\n",
            "800/800 [==============================] - 0s 123us/step - loss: 0.3568 - val_loss: 0.3745\n",
            "Epoch 30/100\n",
            "800/800 [==============================] - 0s 117us/step - loss: 0.3579 - val_loss: 0.3738\n",
            "Epoch 31/100\n",
            "800/800 [==============================] - 0s 127us/step - loss: 0.3574 - val_loss: 0.3747\n",
            "Epoch 32/100\n",
            "800/800 [==============================] - 0s 136us/step - loss: 0.3546 - val_loss: 0.3748\n",
            "Epoch 33/100\n",
            "800/800 [==============================] - 0s 128us/step - loss: 0.3557 - val_loss: 0.3736\n",
            "Epoch 34/100\n",
            "800/800 [==============================] - 0s 137us/step - loss: 0.3549 - val_loss: 0.3746\n",
            "Epoch 35/100\n",
            "800/800 [==============================] - 0s 138us/step - loss: 0.3534 - val_loss: 0.3766\n",
            "Epoch 36/100\n",
            "800/800 [==============================] - 0s 136us/step - loss: 0.3547 - val_loss: 0.3751\n",
            "Epoch 37/100\n",
            "800/800 [==============================] - 0s 144us/step - loss: 0.3554 - val_loss: 0.3730\n",
            "Epoch 38/100\n",
            "800/800 [==============================] - 0s 134us/step - loss: 0.3545 - val_loss: 0.3739\n",
            "Epoch 39/100\n",
            "800/800 [==============================] - 0s 126us/step - loss: 0.3541 - val_loss: 0.3722\n",
            "Epoch 40/100\n",
            "800/800 [==============================] - 0s 127us/step - loss: 0.3530 - val_loss: 0.3719\n",
            "Epoch 41/100\n",
            "800/800 [==============================] - 0s 126us/step - loss: 0.3520 - val_loss: 0.3757\n",
            "Epoch 42/100\n",
            "800/800 [==============================] - 0s 132us/step - loss: 0.3520 - val_loss: 0.3760\n",
            "Epoch 43/100\n",
            "800/800 [==============================] - 0s 143us/step - loss: 0.3506 - val_loss: 0.3759\n",
            "Epoch 44/100\n",
            "800/800 [==============================] - 0s 126us/step - loss: 0.3525 - val_loss: 0.3741\n",
            "Epoch 45/100\n",
            "800/800 [==============================] - 0s 124us/step - loss: 0.3500 - val_loss: 0.3744\n",
            "Epoch 46/100\n",
            "800/800 [==============================] - 0s 130us/step - loss: 0.3493 - val_loss: 0.3748\n",
            "Epoch 47/100\n",
            "800/800 [==============================] - 0s 125us/step - loss: 0.3495 - val_loss: 0.3736\n",
            "Epoch 48/100\n",
            "800/800 [==============================] - 0s 122us/step - loss: 0.3476 - val_loss: 0.3791\n",
            "Epoch 49/100\n",
            "800/800 [==============================] - 0s 131us/step - loss: 0.3499 - val_loss: 0.3750\n",
            "Epoch 50/100\n",
            "800/800 [==============================] - 0s 123us/step - loss: 0.3493 - val_loss: 0.3736\n",
            "Epoch 51/100\n",
            "800/800 [==============================] - 0s 121us/step - loss: 0.3468 - val_loss: 0.3731\n",
            "Epoch 52/100\n",
            "800/800 [==============================] - 0s 129us/step - loss: 0.3472 - val_loss: 0.3757\n",
            "Epoch 53/100\n",
            "800/800 [==============================] - 0s 144us/step - loss: 0.3466 - val_loss: 0.3738\n",
            "Epoch 54/100\n",
            "800/800 [==============================] - 0s 130us/step - loss: 0.3447 - val_loss: 0.3725\n",
            "Epoch 55/100\n",
            "800/800 [==============================] - 0s 122us/step - loss: 0.3473 - val_loss: 0.3730\n",
            "Epoch 56/100\n",
            "800/800 [==============================] - 0s 124us/step - loss: 0.3450 - val_loss: 0.3724\n",
            "Epoch 57/100\n",
            "800/800 [==============================] - 0s 130us/step - loss: 0.3456 - val_loss: 0.3755\n",
            "Epoch 58/100\n",
            "800/800 [==============================] - 0s 127us/step - loss: 0.3445 - val_loss: 0.3737\n",
            "Epoch 59/100\n",
            "800/800 [==============================] - 0s 129us/step - loss: 0.3424 - val_loss: 0.3759\n",
            "Epoch 60/100\n",
            "800/800 [==============================] - 0s 133us/step - loss: 0.3407 - val_loss: 0.3755\n",
            "Epoch 61/100\n",
            "800/800 [==============================] - 0s 125us/step - loss: 0.3423 - val_loss: 0.3787\n",
            "Epoch 62/100\n",
            "800/800 [==============================] - 0s 122us/step - loss: 0.3421 - val_loss: 0.3728\n",
            "Epoch 63/100\n",
            "800/800 [==============================] - 0s 149us/step - loss: 0.3418 - val_loss: 0.3757\n",
            "Epoch 64/100\n",
            "800/800 [==============================] - 0s 123us/step - loss: 0.3416 - val_loss: 0.3741\n",
            "Epoch 65/100\n",
            "800/800 [==============================] - 0s 127us/step - loss: 0.3432 - val_loss: 0.3721\n",
            "Epoch 66/100\n",
            "800/800 [==============================] - 0s 133us/step - loss: 0.3420 - val_loss: 0.3763\n",
            "Epoch 67/100\n",
            "800/800 [==============================] - 0s 134us/step - loss: 0.3405 - val_loss: 0.3748\n",
            "Epoch 68/100\n",
            "800/800 [==============================] - 0s 134us/step - loss: 0.3379 - val_loss: 0.3769\n",
            "Epoch 69/100\n",
            "800/800 [==============================] - 0s 132us/step - loss: 0.3399 - val_loss: 0.3729\n",
            "Epoch 70/100\n",
            "800/800 [==============================] - 0s 129us/step - loss: 0.3413 - val_loss: 0.3756\n",
            "Epoch 71/100\n",
            "800/800 [==============================] - 0s 130us/step - loss: 0.3390 - val_loss: 0.3743\n",
            "Epoch 72/100\n",
            "800/800 [==============================] - 0s 131us/step - loss: 0.3405 - val_loss: 0.3763\n",
            "Epoch 73/100\n",
            "800/800 [==============================] - 0s 147us/step - loss: 0.3402 - val_loss: 0.3751\n",
            "Epoch 74/100\n",
            "800/800 [==============================] - 0s 142us/step - loss: 0.3401 - val_loss: 0.3755\n",
            "Epoch 75/100\n",
            "800/800 [==============================] - 0s 130us/step - loss: 0.3381 - val_loss: 0.3789\n",
            "Epoch 76/100\n",
            "800/800 [==============================] - 0s 131us/step - loss: 0.3367 - val_loss: 0.3753\n",
            "Epoch 77/100\n",
            "800/800 [==============================] - 0s 127us/step - loss: 0.3375 - val_loss: 0.3737\n",
            "Epoch 78/100\n",
            "800/800 [==============================] - 0s 128us/step - loss: 0.3362 - val_loss: 0.3761\n",
            "Epoch 79/100\n",
            "800/800 [==============================] - 0s 131us/step - loss: 0.3373 - val_loss: 0.3761\n",
            "Epoch 80/100\n",
            "800/800 [==============================] - 0s 132us/step - loss: 0.3342 - val_loss: 0.3737\n",
            "Epoch 81/100\n",
            "800/800 [==============================] - 0s 128us/step - loss: 0.3380 - val_loss: 0.3765\n",
            "Epoch 82/100\n",
            "800/800 [==============================] - 0s 135us/step - loss: 0.3341 - val_loss: 0.3791\n",
            "Epoch 83/100\n",
            "800/800 [==============================] - 0s 127us/step - loss: 0.3350 - val_loss: 0.3779\n",
            "Epoch 84/100\n",
            "800/800 [==============================] - 0s 131us/step - loss: 0.3364 - val_loss: 0.3771\n",
            "Epoch 85/100\n",
            "800/800 [==============================] - 0s 131us/step - loss: 0.3360 - val_loss: 0.3773\n",
            "Epoch 86/100\n",
            "800/800 [==============================] - 0s 131us/step - loss: 0.3343 - val_loss: 0.3770\n",
            "Epoch 87/100\n",
            "800/800 [==============================] - 0s 125us/step - loss: 0.3331 - val_loss: 0.3779\n",
            "Epoch 88/100\n",
            "800/800 [==============================] - 0s 127us/step - loss: 0.3340 - val_loss: 0.3816\n",
            "Epoch 89/100\n",
            "800/800 [==============================] - 0s 142us/step - loss: 0.3339 - val_loss: 0.3754\n",
            "Epoch 90/100\n",
            "800/800 [==============================] - 0s 135us/step - loss: 0.3321 - val_loss: 0.3810\n",
            "Epoch 91/100\n",
            "800/800 [==============================] - 0s 132us/step - loss: 0.3337 - val_loss: 0.3770\n",
            "Epoch 92/100\n",
            "800/800 [==============================] - 0s 151us/step - loss: 0.3325 - val_loss: 0.3770\n",
            "Epoch 93/100\n",
            "800/800 [==============================] - 0s 134us/step - loss: 0.3318 - val_loss: 0.3768\n",
            "Epoch 94/100\n",
            "800/800 [==============================] - 0s 144us/step - loss: 0.3311 - val_loss: 0.3812\n",
            "Epoch 95/100\n",
            "800/800 [==============================] - 0s 135us/step - loss: 0.3323 - val_loss: 0.3825\n",
            "Epoch 96/100\n",
            "800/800 [==============================] - 0s 135us/step - loss: 0.3317 - val_loss: 0.3812\n",
            "Epoch 97/100\n",
            "800/800 [==============================] - 0s 123us/step - loss: 0.3324 - val_loss: 0.3779\n",
            "Epoch 98/100\n",
            "800/800 [==============================] - 0s 129us/step - loss: 0.3309 - val_loss: 0.3806\n",
            "Epoch 99/100\n",
            "800/800 [==============================] - 0s 133us/step - loss: 0.3307 - val_loss: 0.3800\n",
            "Epoch 100/100\n",
            "800/800 [==============================] - 0s 139us/step - loss: 0.3294 - val_loss: 0.3812\n",
            "(200, 1)\n"
          ],
          "name": "stdout"
        }
      ]
    },
    {
      "cell_type": "markdown",
      "metadata": {
        "id": "lN25c0ZHdR-v",
        "colab_type": "text"
      },
      "source": [
        "## Outputs using various Optimizers and final Plot using RMSProp\n",
        "\n",
        "Applied various optimizers like RMSProp, Adagrad, Adam and Adadelta to check the difference and plotted the final output using RMSProp as it gave the least error rate"
      ]
    },
    {
      "cell_type": "code",
      "metadata": {
        "id": "YLWqUKZluW7-",
        "colab_type": "code",
        "outputId": "71783d6e-c9bb-40e1-abb3-1321ba5bbb8f",
        "colab": {
          "base_uri": "https://localhost:8080/",
          "height": 34
        }
      },
      "source": [
        "print(trainScore) # RMSProp"
      ],
      "execution_count": 43,
      "outputs": [
        {
          "output_type": "stream",
          "text": [
            "0.3811911261081696\n"
          ],
          "name": "stdout"
        }
      ]
    },
    {
      "cell_type": "code",
      "metadata": {
        "id": "SdI4Z1xm6QCZ",
        "colab_type": "code",
        "colab": {
          "base_uri": "https://localhost:8080/",
          "height": 255
        },
        "outputId": "4232dfbb-40aa-45f7-867c-dad6fcfb20d8"
      },
      "source": [
        "model = Sequential()\n",
        "model.add(SimpleRNN(units=32, input_shape=(1,step), activation=\"relu\"))\n",
        "# model.add(SimpleRNN(units = 64,return_sequences=True))\n",
        "# model.add(SimpleRNN(units = 32))\n",
        "model.add(Dense(8, activation=\"relu\")) \n",
        "model.add(Dense(1))\n",
        "model.compile(loss='mean_squared_error', optimizer='adagrad')\n",
        "model.summary()"
      ],
      "execution_count": 45,
      "outputs": [
        {
          "output_type": "stream",
          "text": [
            "Model: \"sequential_8\"\n",
            "_________________________________________________________________\n",
            "Layer (type)                 Output Shape              Param #   \n",
            "=================================================================\n",
            "simple_rnn_8 (SimpleRNN)     (None, 32)                1184      \n",
            "_________________________________________________________________\n",
            "dense_15 (Dense)             (None, 8)                 264       \n",
            "_________________________________________________________________\n",
            "dense_16 (Dense)             (None, 1)                 9         \n",
            "=================================================================\n",
            "Total params: 1,457\n",
            "Trainable params: 1,457\n",
            "Non-trainable params: 0\n",
            "_________________________________________________________________\n"
          ],
          "name": "stdout"
        }
      ]
    },
    {
      "cell_type": "code",
      "metadata": {
        "id": "yQVLluMq6RHQ",
        "colab_type": "code",
        "colab": {
          "base_uri": "https://localhost:8080/",
          "height": 1000
        },
        "outputId": "7d708186-9233-487c-d86b-5b966933ffa5"
      },
      "source": [
        "model.fit(trainX,trainY,validation_data=(testX,testY), epochs=100, batch_size=32, verbose=1)\n",
        "trainPredict = model.predict(trainX)\n",
        "testPredict= model.predict(testX)\n",
        "print(testPredict.shape)\n",
        "predicted=np.concatenate((trainPredict,testPredict),axis=0)\n",
        "trainScore = model.evaluate(testX, testY, verbose=0)\n"
      ],
      "execution_count": 46,
      "outputs": [
        {
          "output_type": "stream",
          "text": [
            "Train on 800 samples, validate on 200 samples\n",
            "Epoch 1/100\n",
            "800/800 [==============================] - 1s 833us/step - loss: 0.5088 - val_loss: 0.3753\n",
            "Epoch 2/100\n",
            "800/800 [==============================] - 0s 125us/step - loss: 0.3890 - val_loss: 0.3694\n",
            "Epoch 3/100\n",
            "800/800 [==============================] - 0s 131us/step - loss: 0.3873 - val_loss: 0.3664\n",
            "Epoch 4/100\n",
            "800/800 [==============================] - 0s 140us/step - loss: 0.3841 - val_loss: 0.3648\n",
            "Epoch 5/100\n",
            "800/800 [==============================] - 0s 126us/step - loss: 0.3809 - val_loss: 0.3645\n",
            "Epoch 6/100\n",
            "800/800 [==============================] - 0s 129us/step - loss: 0.3798 - val_loss: 0.3651\n",
            "Epoch 7/100\n",
            "800/800 [==============================] - 0s 127us/step - loss: 0.3779 - val_loss: 0.3633\n",
            "Epoch 8/100\n",
            "800/800 [==============================] - 0s 125us/step - loss: 0.3768 - val_loss: 0.3640\n",
            "Epoch 9/100\n",
            "800/800 [==============================] - 0s 129us/step - loss: 0.3750 - val_loss: 0.3649\n",
            "Epoch 10/100\n",
            "800/800 [==============================] - 0s 137us/step - loss: 0.3750 - val_loss: 0.3644\n",
            "Epoch 11/100\n",
            "800/800 [==============================] - 0s 124us/step - loss: 0.3732 - val_loss: 0.3648\n",
            "Epoch 12/100\n",
            "800/800 [==============================] - 0s 138us/step - loss: 0.3731 - val_loss: 0.3648\n",
            "Epoch 13/100\n",
            "800/800 [==============================] - 0s 141us/step - loss: 0.3728 - val_loss: 0.3651\n",
            "Epoch 14/100\n",
            "800/800 [==============================] - 0s 140us/step - loss: 0.3713 - val_loss: 0.3656\n",
            "Epoch 15/100\n",
            "800/800 [==============================] - 0s 129us/step - loss: 0.3713 - val_loss: 0.3658\n",
            "Epoch 16/100\n",
            "800/800 [==============================] - 0s 129us/step - loss: 0.3701 - val_loss: 0.3669\n",
            "Epoch 17/100\n",
            "800/800 [==============================] - 0s 128us/step - loss: 0.3709 - val_loss: 0.3663\n",
            "Epoch 18/100\n",
            "800/800 [==============================] - 0s 129us/step - loss: 0.3699 - val_loss: 0.3668\n",
            "Epoch 19/100\n",
            "800/800 [==============================] - 0s 130us/step - loss: 0.3702 - val_loss: 0.3669\n",
            "Epoch 20/100\n",
            "800/800 [==============================] - 0s 143us/step - loss: 0.3695 - val_loss: 0.3671\n",
            "Epoch 21/100\n",
            "800/800 [==============================] - 0s 133us/step - loss: 0.3686 - val_loss: 0.3676\n",
            "Epoch 22/100\n",
            "800/800 [==============================] - 0s 129us/step - loss: 0.3687 - val_loss: 0.3675\n",
            "Epoch 23/100\n",
            "800/800 [==============================] - 0s 131us/step - loss: 0.3686 - val_loss: 0.3680\n",
            "Epoch 24/100\n",
            "800/800 [==============================] - 0s 134us/step - loss: 0.3675 - val_loss: 0.3683\n",
            "Epoch 25/100\n",
            "800/800 [==============================] - 0s 131us/step - loss: 0.3677 - val_loss: 0.3683\n",
            "Epoch 26/100\n",
            "800/800 [==============================] - 0s 129us/step - loss: 0.3675 - val_loss: 0.3685\n",
            "Epoch 27/100\n",
            "800/800 [==============================] - 0s 123us/step - loss: 0.3675 - val_loss: 0.3687\n",
            "Epoch 28/100\n",
            "800/800 [==============================] - 0s 126us/step - loss: 0.3665 - val_loss: 0.3689\n",
            "Epoch 29/100\n",
            "800/800 [==============================] - 0s 129us/step - loss: 0.3671 - val_loss: 0.3692\n",
            "Epoch 30/100\n",
            "800/800 [==============================] - 0s 128us/step - loss: 0.3667 - val_loss: 0.3694\n",
            "Epoch 31/100\n",
            "800/800 [==============================] - 0s 134us/step - loss: 0.3667 - val_loss: 0.3693\n",
            "Epoch 32/100\n",
            "800/800 [==============================] - 0s 123us/step - loss: 0.3664 - val_loss: 0.3697\n",
            "Epoch 33/100\n",
            "800/800 [==============================] - 0s 137us/step - loss: 0.3660 - val_loss: 0.3696\n",
            "Epoch 34/100\n",
            "800/800 [==============================] - 0s 126us/step - loss: 0.3659 - val_loss: 0.3699\n",
            "Epoch 35/100\n",
            "800/800 [==============================] - 0s 130us/step - loss: 0.3655 - val_loss: 0.3704\n",
            "Epoch 36/100\n",
            "800/800 [==============================] - 0s 137us/step - loss: 0.3656 - val_loss: 0.3704\n",
            "Epoch 37/100\n",
            "800/800 [==============================] - 0s 128us/step - loss: 0.3655 - val_loss: 0.3705\n",
            "Epoch 38/100\n",
            "800/800 [==============================] - 0s 123us/step - loss: 0.3649 - val_loss: 0.3705\n",
            "Epoch 39/100\n",
            "800/800 [==============================] - 0s 134us/step - loss: 0.3651 - val_loss: 0.3707\n",
            "Epoch 40/100\n",
            "800/800 [==============================] - 0s 118us/step - loss: 0.3647 - val_loss: 0.3708\n",
            "Epoch 41/100\n",
            "800/800 [==============================] - 0s 122us/step - loss: 0.3648 - val_loss: 0.3710\n",
            "Epoch 42/100\n",
            "800/800 [==============================] - 0s 125us/step - loss: 0.3646 - val_loss: 0.3709\n",
            "Epoch 43/100\n",
            "800/800 [==============================] - 0s 133us/step - loss: 0.3640 - val_loss: 0.3714\n",
            "Epoch 44/100\n",
            "800/800 [==============================] - 0s 124us/step - loss: 0.3644 - val_loss: 0.3714\n",
            "Epoch 45/100\n",
            "800/800 [==============================] - 0s 136us/step - loss: 0.3641 - val_loss: 0.3713\n",
            "Epoch 46/100\n",
            "800/800 [==============================] - 0s 123us/step - loss: 0.3640 - val_loss: 0.3715\n",
            "Epoch 47/100\n",
            "800/800 [==============================] - 0s 123us/step - loss: 0.3641 - val_loss: 0.3719\n",
            "Epoch 48/100\n",
            "800/800 [==============================] - 0s 133us/step - loss: 0.3636 - val_loss: 0.3720\n",
            "Epoch 49/100\n",
            "800/800 [==============================] - 0s 131us/step - loss: 0.3636 - val_loss: 0.3722\n",
            "Epoch 50/100\n",
            "800/800 [==============================] - 0s 124us/step - loss: 0.3636 - val_loss: 0.3722\n",
            "Epoch 51/100\n",
            "800/800 [==============================] - 0s 127us/step - loss: 0.3633 - val_loss: 0.3726\n",
            "Epoch 52/100\n",
            "800/800 [==============================] - 0s 122us/step - loss: 0.3630 - val_loss: 0.3726\n",
            "Epoch 53/100\n",
            "800/800 [==============================] - 0s 142us/step - loss: 0.3630 - val_loss: 0.3729\n",
            "Epoch 54/100\n",
            "800/800 [==============================] - 0s 125us/step - loss: 0.3630 - val_loss: 0.3732\n",
            "Epoch 55/100\n",
            "800/800 [==============================] - 0s 126us/step - loss: 0.3628 - val_loss: 0.3732\n",
            "Epoch 56/100\n",
            "800/800 [==============================] - 0s 126us/step - loss: 0.3628 - val_loss: 0.3736\n",
            "Epoch 57/100\n",
            "800/800 [==============================] - 0s 127us/step - loss: 0.3628 - val_loss: 0.3736\n",
            "Epoch 58/100\n",
            "800/800 [==============================] - 0s 135us/step - loss: 0.3626 - val_loss: 0.3734\n",
            "Epoch 59/100\n",
            "800/800 [==============================] - 0s 123us/step - loss: 0.3623 - val_loss: 0.3735\n",
            "Epoch 60/100\n",
            "800/800 [==============================] - 0s 131us/step - loss: 0.3621 - val_loss: 0.3737\n",
            "Epoch 61/100\n",
            "800/800 [==============================] - 0s 123us/step - loss: 0.3622 - val_loss: 0.3739\n",
            "Epoch 62/100\n",
            "800/800 [==============================] - 0s 125us/step - loss: 0.3619 - val_loss: 0.3740\n",
            "Epoch 63/100\n",
            "800/800 [==============================] - 0s 142us/step - loss: 0.3617 - val_loss: 0.3741\n",
            "Epoch 64/100\n",
            "800/800 [==============================] - 0s 144us/step - loss: 0.3615 - val_loss: 0.3742\n",
            "Epoch 65/100\n",
            "800/800 [==============================] - 0s 150us/step - loss: 0.3617 - val_loss: 0.3740\n",
            "Epoch 66/100\n",
            "800/800 [==============================] - 0s 150us/step - loss: 0.3614 - val_loss: 0.3741\n",
            "Epoch 67/100\n",
            "800/800 [==============================] - 0s 157us/step - loss: 0.3615 - val_loss: 0.3744\n",
            "Epoch 68/100\n",
            "800/800 [==============================] - 0s 175us/step - loss: 0.3615 - val_loss: 0.3743\n",
            "Epoch 69/100\n",
            "800/800 [==============================] - 0s 140us/step - loss: 0.3611 - val_loss: 0.3744\n",
            "Epoch 70/100\n",
            "800/800 [==============================] - 0s 129us/step - loss: 0.3612 - val_loss: 0.3744\n",
            "Epoch 71/100\n",
            "800/800 [==============================] - 0s 127us/step - loss: 0.3609 - val_loss: 0.3746\n",
            "Epoch 72/100\n",
            "800/800 [==============================] - 0s 131us/step - loss: 0.3612 - val_loss: 0.3747\n",
            "Epoch 73/100\n",
            "800/800 [==============================] - 0s 122us/step - loss: 0.3610 - val_loss: 0.3750\n",
            "Epoch 74/100\n",
            "800/800 [==============================] - 0s 119us/step - loss: 0.3607 - val_loss: 0.3751\n",
            "Epoch 75/100\n",
            "800/800 [==============================] - 0s 126us/step - loss: 0.3608 - val_loss: 0.3752\n",
            "Epoch 76/100\n",
            "800/800 [==============================] - 0s 134us/step - loss: 0.3607 - val_loss: 0.3754\n",
            "Epoch 77/100\n",
            "800/800 [==============================] - 0s 142us/step - loss: 0.3603 - val_loss: 0.3754\n",
            "Epoch 78/100\n",
            "800/800 [==============================] - 0s 129us/step - loss: 0.3604 - val_loss: 0.3754\n",
            "Epoch 79/100\n",
            "800/800 [==============================] - 0s 130us/step - loss: 0.3605 - val_loss: 0.3755\n",
            "Epoch 80/100\n",
            "800/800 [==============================] - 0s 123us/step - loss: 0.3601 - val_loss: 0.3756\n",
            "Epoch 81/100\n",
            "800/800 [==============================] - 0s 139us/step - loss: 0.3601 - val_loss: 0.3755\n",
            "Epoch 82/100\n",
            "800/800 [==============================] - 0s 126us/step - loss: 0.3601 - val_loss: 0.3756\n",
            "Epoch 83/100\n",
            "800/800 [==============================] - 0s 124us/step - loss: 0.3600 - val_loss: 0.3758\n",
            "Epoch 84/100\n",
            "800/800 [==============================] - 0s 126us/step - loss: 0.3600 - val_loss: 0.3759\n",
            "Epoch 85/100\n",
            "800/800 [==============================] - 0s 122us/step - loss: 0.3600 - val_loss: 0.3761\n",
            "Epoch 86/100\n",
            "800/800 [==============================] - 0s 123us/step - loss: 0.3597 - val_loss: 0.3762\n",
            "Epoch 87/100\n",
            "800/800 [==============================] - 0s 124us/step - loss: 0.3595 - val_loss: 0.3762\n",
            "Epoch 88/100\n",
            "800/800 [==============================] - 0s 127us/step - loss: 0.3597 - val_loss: 0.3763\n",
            "Epoch 89/100\n",
            "800/800 [==============================] - 0s 134us/step - loss: 0.3594 - val_loss: 0.3763\n",
            "Epoch 90/100\n",
            "800/800 [==============================] - 0s 128us/step - loss: 0.3595 - val_loss: 0.3763\n",
            "Epoch 91/100\n",
            "800/800 [==============================] - 0s 136us/step - loss: 0.3592 - val_loss: 0.3764\n",
            "Epoch 92/100\n",
            "800/800 [==============================] - 0s 140us/step - loss: 0.3593 - val_loss: 0.3766\n",
            "Epoch 93/100\n",
            "800/800 [==============================] - 0s 131us/step - loss: 0.3590 - val_loss: 0.3766\n",
            "Epoch 94/100\n",
            "800/800 [==============================] - 0s 128us/step - loss: 0.3589 - val_loss: 0.3767\n",
            "Epoch 95/100\n",
            "800/800 [==============================] - 0s 126us/step - loss: 0.3591 - val_loss: 0.3766\n",
            "Epoch 96/100\n",
            "800/800 [==============================] - 0s 130us/step - loss: 0.3591 - val_loss: 0.3766\n",
            "Epoch 97/100\n",
            "800/800 [==============================] - 0s 121us/step - loss: 0.3591 - val_loss: 0.3767\n",
            "Epoch 98/100\n",
            "800/800 [==============================] - 0s 125us/step - loss: 0.3591 - val_loss: 0.3768\n",
            "Epoch 99/100\n",
            "800/800 [==============================] - 0s 136us/step - loss: 0.3588 - val_loss: 0.3769\n",
            "Epoch 100/100\n",
            "800/800 [==============================] - 0s 123us/step - loss: 0.3585 - val_loss: 0.3769\n",
            "(200, 1)\n"
          ],
          "name": "stdout"
        }
      ]
    },
    {
      "cell_type": "code",
      "metadata": {
        "id": "zuWdRPTOugTd",
        "colab_type": "code",
        "outputId": "25ccb187-2fca-4d49-fb09-db848b55a773",
        "colab": {
          "base_uri": "https://localhost:8080/",
          "height": 34
        }
      },
      "source": [
        "print(trainScore) #Adagrad"
      ],
      "execution_count": 47,
      "outputs": [
        {
          "output_type": "stream",
          "text": [
            "0.37687172830104826\n"
          ],
          "name": "stdout"
        }
      ]
    },
    {
      "cell_type": "code",
      "metadata": {
        "id": "0U6To6B16YYj",
        "colab_type": "code",
        "colab": {
          "base_uri": "https://localhost:8080/",
          "height": 255
        },
        "outputId": "8edf87b8-93be-4067-c8a5-5db630d4c70b"
      },
      "source": [
        "model = Sequential()\n",
        "model.add(SimpleRNN(units=32, input_shape=(1,step), activation=\"relu\"))\n",
        "# model.add(SimpleRNN(units = 64,return_sequences=True))\n",
        "# model.add(SimpleRNN(units = 32))\n",
        "model.add(Dense(8, activation=\"relu\")) \n",
        "model.add(Dense(1))\n",
        "model.compile(loss='mean_squared_error', optimizer='adam')\n",
        "model.summary()"
      ],
      "execution_count": 49,
      "outputs": [
        {
          "output_type": "stream",
          "text": [
            "Model: \"sequential_10\"\n",
            "_________________________________________________________________\n",
            "Layer (type)                 Output Shape              Param #   \n",
            "=================================================================\n",
            "simple_rnn_10 (SimpleRNN)    (None, 32)                1184      \n",
            "_________________________________________________________________\n",
            "dense_19 (Dense)             (None, 8)                 264       \n",
            "_________________________________________________________________\n",
            "dense_20 (Dense)             (None, 1)                 9         \n",
            "=================================================================\n",
            "Total params: 1,457\n",
            "Trainable params: 1,457\n",
            "Non-trainable params: 0\n",
            "_________________________________________________________________\n"
          ],
          "name": "stdout"
        }
      ]
    },
    {
      "cell_type": "code",
      "metadata": {
        "id": "Ik3TXP4x6arI",
        "colab_type": "code",
        "colab": {
          "base_uri": "https://localhost:8080/",
          "height": 1000
        },
        "outputId": "2939f7bd-a4a9-4f9b-d745-6509b937f292"
      },
      "source": [
        "model.fit(trainX,trainY,validation_data=(testX,testY), epochs=100, batch_size=32, verbose=1)\n",
        "trainPredict = model.predict(trainX)\n",
        "testPredict= model.predict(testX)\n",
        "print(testPredict.shape)\n",
        "predicted=np.concatenate((trainPredict,testPredict),axis=0)\n",
        "trainScore = model.evaluate(testX, testY, verbose=0)\n"
      ],
      "execution_count": 50,
      "outputs": [
        {
          "output_type": "stream",
          "text": [
            "Train on 800 samples, validate on 200 samples\n",
            "Epoch 1/100\n",
            "800/800 [==============================] - 1s 1ms/step - loss: 1.0121 - val_loss: 0.4697\n",
            "Epoch 2/100\n",
            "800/800 [==============================] - 0s 146us/step - loss: 0.4313 - val_loss: 0.3774\n",
            "Epoch 3/100\n",
            "800/800 [==============================] - 0s 160us/step - loss: 0.3891 - val_loss: 0.3753\n",
            "Epoch 4/100\n",
            "800/800 [==============================] - 0s 142us/step - loss: 0.3833 - val_loss: 0.3718\n",
            "Epoch 5/100\n",
            "800/800 [==============================] - 0s 136us/step - loss: 0.3809 - val_loss: 0.3708\n",
            "Epoch 6/100\n",
            "800/800 [==============================] - 0s 131us/step - loss: 0.3799 - val_loss: 0.3686\n",
            "Epoch 7/100\n",
            "800/800 [==============================] - 0s 136us/step - loss: 0.3784 - val_loss: 0.3684\n",
            "Epoch 8/100\n",
            "800/800 [==============================] - 0s 130us/step - loss: 0.3780 - val_loss: 0.3681\n",
            "Epoch 9/100\n",
            "800/800 [==============================] - 0s 139us/step - loss: 0.3760 - val_loss: 0.3671\n",
            "Epoch 10/100\n",
            "800/800 [==============================] - 0s 127us/step - loss: 0.3756 - val_loss: 0.3668\n",
            "Epoch 11/100\n",
            "800/800 [==============================] - 0s 126us/step - loss: 0.3750 - val_loss: 0.3674\n",
            "Epoch 12/100\n",
            "800/800 [==============================] - 0s 133us/step - loss: 0.3752 - val_loss: 0.3671\n",
            "Epoch 13/100\n",
            "800/800 [==============================] - 0s 150us/step - loss: 0.3734 - val_loss: 0.3678\n",
            "Epoch 14/100\n",
            "800/800 [==============================] - 0s 136us/step - loss: 0.3708 - val_loss: 0.3683\n",
            "Epoch 15/100\n",
            "800/800 [==============================] - 0s 132us/step - loss: 0.3699 - val_loss: 0.3686\n",
            "Epoch 16/100\n",
            "800/800 [==============================] - 0s 135us/step - loss: 0.3692 - val_loss: 0.3686\n",
            "Epoch 17/100\n",
            "800/800 [==============================] - 0s 137us/step - loss: 0.3678 - val_loss: 0.3687\n",
            "Epoch 18/100\n",
            "800/800 [==============================] - 0s 140us/step - loss: 0.3693 - val_loss: 0.3690\n",
            "Epoch 19/100\n",
            "800/800 [==============================] - 0s 138us/step - loss: 0.3677 - val_loss: 0.3698\n",
            "Epoch 20/100\n",
            "800/800 [==============================] - 0s 137us/step - loss: 0.3655 - val_loss: 0.3700\n",
            "Epoch 21/100\n",
            "800/800 [==============================] - 0s 137us/step - loss: 0.3680 - val_loss: 0.3723\n",
            "Epoch 22/100\n",
            "800/800 [==============================] - 0s 156us/step - loss: 0.3642 - val_loss: 0.3710\n",
            "Epoch 23/100\n",
            "800/800 [==============================] - 0s 141us/step - loss: 0.3657 - val_loss: 0.3716\n",
            "Epoch 24/100\n",
            "800/800 [==============================] - 0s 138us/step - loss: 0.3640 - val_loss: 0.3718\n",
            "Epoch 25/100\n",
            "800/800 [==============================] - 0s 128us/step - loss: 0.3628 - val_loss: 0.3722\n",
            "Epoch 26/100\n",
            "800/800 [==============================] - 0s 128us/step - loss: 0.3627 - val_loss: 0.3729\n",
            "Epoch 27/100\n",
            "800/800 [==============================] - 0s 136us/step - loss: 0.3647 - val_loss: 0.3736\n",
            "Epoch 28/100\n",
            "800/800 [==============================] - 0s 137us/step - loss: 0.3619 - val_loss: 0.3729\n",
            "Epoch 29/100\n",
            "800/800 [==============================] - 0s 131us/step - loss: 0.3615 - val_loss: 0.3740\n",
            "Epoch 30/100\n",
            "800/800 [==============================] - 0s 130us/step - loss: 0.3612 - val_loss: 0.3743\n",
            "Epoch 31/100\n",
            "800/800 [==============================] - 0s 145us/step - loss: 0.3607 - val_loss: 0.3747\n",
            "Epoch 32/100\n",
            "800/800 [==============================] - 0s 140us/step - loss: 0.3607 - val_loss: 0.3748\n",
            "Epoch 33/100\n",
            "800/800 [==============================] - 0s 134us/step - loss: 0.3615 - val_loss: 0.3753\n",
            "Epoch 34/100\n",
            "800/800 [==============================] - 0s 134us/step - loss: 0.3628 - val_loss: 0.3756\n",
            "Epoch 35/100\n",
            "800/800 [==============================] - 0s 134us/step - loss: 0.3620 - val_loss: 0.3768\n",
            "Epoch 36/100\n",
            "800/800 [==============================] - 0s 133us/step - loss: 0.3595 - val_loss: 0.3767\n",
            "Epoch 37/100\n",
            "800/800 [==============================] - 0s 134us/step - loss: 0.3595 - val_loss: 0.3755\n",
            "Epoch 38/100\n",
            "800/800 [==============================] - 0s 132us/step - loss: 0.3589 - val_loss: 0.3763\n",
            "Epoch 39/100\n",
            "800/800 [==============================] - 0s 133us/step - loss: 0.3576 - val_loss: 0.3766\n",
            "Epoch 40/100\n",
            "800/800 [==============================] - 0s 129us/step - loss: 0.3577 - val_loss: 0.3759\n",
            "Epoch 41/100\n",
            "800/800 [==============================] - 0s 149us/step - loss: 0.3578 - val_loss: 0.3764\n",
            "Epoch 42/100\n",
            "800/800 [==============================] - 0s 138us/step - loss: 0.3590 - val_loss: 0.3773\n",
            "Epoch 43/100\n",
            "800/800 [==============================] - 0s 133us/step - loss: 0.3583 - val_loss: 0.3773\n",
            "Epoch 44/100\n",
            "800/800 [==============================] - 0s 136us/step - loss: 0.3577 - val_loss: 0.3779\n",
            "Epoch 45/100\n",
            "800/800 [==============================] - 0s 140us/step - loss: 0.3555 - val_loss: 0.3763\n",
            "Epoch 46/100\n",
            "800/800 [==============================] - 0s 151us/step - loss: 0.3552 - val_loss: 0.3774\n",
            "Epoch 47/100\n",
            "800/800 [==============================] - 0s 138us/step - loss: 0.3550 - val_loss: 0.3777\n",
            "Epoch 48/100\n",
            "800/800 [==============================] - 0s 136us/step - loss: 0.3542 - val_loss: 0.3781\n",
            "Epoch 49/100\n",
            "800/800 [==============================] - 0s 136us/step - loss: 0.3545 - val_loss: 0.3773\n",
            "Epoch 50/100\n",
            "800/800 [==============================] - 0s 147us/step - loss: 0.3548 - val_loss: 0.3781\n",
            "Epoch 51/100\n",
            "800/800 [==============================] - 0s 133us/step - loss: 0.3545 - val_loss: 0.3782\n",
            "Epoch 52/100\n",
            "800/800 [==============================] - 0s 134us/step - loss: 0.3532 - val_loss: 0.3794\n",
            "Epoch 53/100\n",
            "800/800 [==============================] - 0s 134us/step - loss: 0.3531 - val_loss: 0.3784\n",
            "Epoch 54/100\n",
            "800/800 [==============================] - 0s 129us/step - loss: 0.3532 - val_loss: 0.3787\n",
            "Epoch 55/100\n",
            "800/800 [==============================] - 0s 132us/step - loss: 0.3525 - val_loss: 0.3800\n",
            "Epoch 56/100\n",
            "800/800 [==============================] - 0s 128us/step - loss: 0.3524 - val_loss: 0.3790\n",
            "Epoch 57/100\n",
            "800/800 [==============================] - 0s 131us/step - loss: 0.3523 - val_loss: 0.3794\n",
            "Epoch 58/100\n",
            "800/800 [==============================] - 0s 127us/step - loss: 0.3514 - val_loss: 0.3795\n",
            "Epoch 59/100\n",
            "800/800 [==============================] - 0s 141us/step - loss: 0.3508 - val_loss: 0.3803\n",
            "Epoch 60/100\n",
            "800/800 [==============================] - 0s 134us/step - loss: 0.3507 - val_loss: 0.3790\n",
            "Epoch 61/100\n",
            "800/800 [==============================] - 0s 138us/step - loss: 0.3499 - val_loss: 0.3803\n",
            "Epoch 62/100\n",
            "800/800 [==============================] - 0s 143us/step - loss: 0.3489 - val_loss: 0.3812\n",
            "Epoch 63/100\n",
            "800/800 [==============================] - 0s 131us/step - loss: 0.3489 - val_loss: 0.3799\n",
            "Epoch 64/100\n",
            "800/800 [==============================] - 0s 140us/step - loss: 0.3490 - val_loss: 0.3811\n",
            "Epoch 65/100\n",
            "800/800 [==============================] - 0s 143us/step - loss: 0.3489 - val_loss: 0.3806\n",
            "Epoch 66/100\n",
            "800/800 [==============================] - 0s 135us/step - loss: 0.3474 - val_loss: 0.3817\n",
            "Epoch 67/100\n",
            "800/800 [==============================] - 0s 137us/step - loss: 0.3482 - val_loss: 0.3807\n",
            "Epoch 68/100\n",
            "800/800 [==============================] - 0s 161us/step - loss: 0.3469 - val_loss: 0.3834\n",
            "Epoch 69/100\n",
            "800/800 [==============================] - 0s 169us/step - loss: 0.3488 - val_loss: 0.3832\n",
            "Epoch 70/100\n",
            "800/800 [==============================] - 0s 143us/step - loss: 0.3466 - val_loss: 0.3807\n",
            "Epoch 71/100\n",
            "800/800 [==============================] - 0s 150us/step - loss: 0.3498 - val_loss: 0.3855\n",
            "Epoch 72/100\n",
            "800/800 [==============================] - 0s 138us/step - loss: 0.3474 - val_loss: 0.3814\n",
            "Epoch 73/100\n",
            "800/800 [==============================] - 0s 130us/step - loss: 0.3458 - val_loss: 0.3825\n",
            "Epoch 74/100\n",
            "800/800 [==============================] - 0s 133us/step - loss: 0.3447 - val_loss: 0.3853\n",
            "Epoch 75/100\n",
            "800/800 [==============================] - 0s 131us/step - loss: 0.3458 - val_loss: 0.3823\n",
            "Epoch 76/100\n",
            "800/800 [==============================] - 0s 132us/step - loss: 0.3465 - val_loss: 0.3831\n",
            "Epoch 77/100\n",
            "800/800 [==============================] - 0s 142us/step - loss: 0.3478 - val_loss: 0.3835\n",
            "Epoch 78/100\n",
            "800/800 [==============================] - 0s 141us/step - loss: 0.3444 - val_loss: 0.3857\n",
            "Epoch 79/100\n",
            "800/800 [==============================] - 0s 140us/step - loss: 0.3437 - val_loss: 0.3838\n",
            "Epoch 80/100\n",
            "800/800 [==============================] - 0s 131us/step - loss: 0.3425 - val_loss: 0.3852\n",
            "Epoch 81/100\n",
            "800/800 [==============================] - 0s 127us/step - loss: 0.3422 - val_loss: 0.3845\n",
            "Epoch 82/100\n",
            "800/800 [==============================] - 0s 126us/step - loss: 0.3463 - val_loss: 0.3850\n",
            "Epoch 83/100\n",
            "800/800 [==============================] - 0s 134us/step - loss: 0.3411 - val_loss: 0.3859\n",
            "Epoch 84/100\n",
            "800/800 [==============================] - 0s 132us/step - loss: 0.3416 - val_loss: 0.3863\n",
            "Epoch 85/100\n",
            "800/800 [==============================] - 0s 134us/step - loss: 0.3413 - val_loss: 0.3851\n",
            "Epoch 86/100\n",
            "800/800 [==============================] - 0s 138us/step - loss: 0.3395 - val_loss: 0.3872\n",
            "Epoch 87/100\n",
            "800/800 [==============================] - 0s 145us/step - loss: 0.3398 - val_loss: 0.3870\n",
            "Epoch 88/100\n",
            "800/800 [==============================] - 0s 142us/step - loss: 0.3412 - val_loss: 0.3877\n",
            "Epoch 89/100\n",
            "800/800 [==============================] - 0s 136us/step - loss: 0.3398 - val_loss: 0.3904\n",
            "Epoch 90/100\n",
            "800/800 [==============================] - 0s 136us/step - loss: 0.3445 - val_loss: 0.3875\n",
            "Epoch 91/100\n",
            "800/800 [==============================] - 0s 131us/step - loss: 0.3394 - val_loss: 0.3887\n",
            "Epoch 92/100\n",
            "800/800 [==============================] - 0s 127us/step - loss: 0.3388 - val_loss: 0.3887\n",
            "Epoch 93/100\n",
            "800/800 [==============================] - 0s 126us/step - loss: 0.3380 - val_loss: 0.3880\n",
            "Epoch 94/100\n",
            "800/800 [==============================] - 0s 135us/step - loss: 0.3380 - val_loss: 0.3888\n",
            "Epoch 95/100\n",
            "800/800 [==============================] - 0s 134us/step - loss: 0.3363 - val_loss: 0.3890\n",
            "Epoch 96/100\n",
            "800/800 [==============================] - 0s 164us/step - loss: 0.3385 - val_loss: 0.3887\n",
            "Epoch 97/100\n",
            "800/800 [==============================] - 0s 168us/step - loss: 0.3358 - val_loss: 0.3871\n",
            "Epoch 98/100\n",
            "800/800 [==============================] - 0s 164us/step - loss: 0.3359 - val_loss: 0.3890\n",
            "Epoch 99/100\n",
            "800/800 [==============================] - 0s 165us/step - loss: 0.3349 - val_loss: 0.3899\n",
            "Epoch 100/100\n",
            "800/800 [==============================] - 0s 155us/step - loss: 0.3361 - val_loss: 0.3911\n",
            "(200, 1)\n"
          ],
          "name": "stdout"
        }
      ]
    },
    {
      "cell_type": "code",
      "metadata": {
        "id": "_ybQGOJ_up2l",
        "colab_type": "code",
        "outputId": "4ae52682-68f1-4bca-f109-b977a68fdb2e",
        "colab": {
          "base_uri": "https://localhost:8080/",
          "height": 34
        }
      },
      "source": [
        "print(trainScore) #Adam"
      ],
      "execution_count": 51,
      "outputs": [
        {
          "output_type": "stream",
          "text": [
            "0.391128850877285\n"
          ],
          "name": "stdout"
        }
      ]
    },
    {
      "cell_type": "code",
      "metadata": {
        "id": "PcHtrJBd6eMa",
        "colab_type": "code",
        "colab": {
          "base_uri": "https://localhost:8080/",
          "height": 255
        },
        "outputId": "d9f384b4-ad57-4251-8e33-85fd1f9791da"
      },
      "source": [
        "model = Sequential()\n",
        "model.add(SimpleRNN(units=32, input_shape=(1,step), activation=\"relu\"))\n",
        "# model.add(SimpleRNN(units = 64,return_sequences=True))\n",
        "# model.add(SimpleRNN(units = 32))\n",
        "model.add(Dense(8, activation=\"relu\")) \n",
        "model.add(Dense(1))\n",
        "model.compile(loss='mean_squared_error', optimizer='adadelta')\n",
        "model.summary()"
      ],
      "execution_count": 52,
      "outputs": [
        {
          "output_type": "stream",
          "text": [
            "Model: \"sequential_11\"\n",
            "_________________________________________________________________\n",
            "Layer (type)                 Output Shape              Param #   \n",
            "=================================================================\n",
            "simple_rnn_11 (SimpleRNN)    (None, 32)                1184      \n",
            "_________________________________________________________________\n",
            "dense_21 (Dense)             (None, 8)                 264       \n",
            "_________________________________________________________________\n",
            "dense_22 (Dense)             (None, 1)                 9         \n",
            "=================================================================\n",
            "Total params: 1,457\n",
            "Trainable params: 1,457\n",
            "Non-trainable params: 0\n",
            "_________________________________________________________________\n"
          ],
          "name": "stdout"
        }
      ]
    },
    {
      "cell_type": "code",
      "metadata": {
        "id": "9sWMfBSP6ldw",
        "colab_type": "code",
        "colab": {
          "base_uri": "https://localhost:8080/",
          "height": 1000
        },
        "outputId": "a7dd9e45-fbac-4db8-b62c-a6b7abb11dfd"
      },
      "source": [
        "model.fit(trainX,trainY,validation_data=(testX,testY), epochs=100, batch_size=32, verbose=1)\n",
        "trainPredict = model.predict(trainX)\n",
        "testPredict= model.predict(testX)\n",
        "print(testPredict.shape)\n",
        "predicted=np.concatenate((trainPredict,testPredict),axis=0)\n",
        "trainScore = model.evaluate(testX, testY, verbose=0)\n"
      ],
      "execution_count": 53,
      "outputs": [
        {
          "output_type": "stream",
          "text": [
            "Train on 800 samples, validate on 200 samples\n",
            "Epoch 1/100\n",
            "800/800 [==============================] - 1s 1000us/step - loss: 0.4446 - val_loss: 0.3732\n",
            "Epoch 2/100\n",
            "800/800 [==============================] - 0s 140us/step - loss: 0.3887 - val_loss: 0.3614\n",
            "Epoch 3/100\n",
            "800/800 [==============================] - 0s 139us/step - loss: 0.3825 - val_loss: 0.3623\n",
            "Epoch 4/100\n",
            "800/800 [==============================] - 0s 138us/step - loss: 0.3826 - val_loss: 0.3584\n",
            "Epoch 5/100\n",
            "800/800 [==============================] - 0s 142us/step - loss: 0.3795 - val_loss: 0.3644\n",
            "Epoch 6/100\n",
            "800/800 [==============================] - 0s 146us/step - loss: 0.3790 - val_loss: 0.3604\n",
            "Epoch 7/100\n",
            "800/800 [==============================] - 0s 139us/step - loss: 0.3780 - val_loss: 0.3581\n",
            "Epoch 8/100\n",
            "800/800 [==============================] - 0s 143us/step - loss: 0.3749 - val_loss: 0.3591\n",
            "Epoch 9/100\n",
            "800/800 [==============================] - 0s 141us/step - loss: 0.3754 - val_loss: 0.3593\n",
            "Epoch 10/100\n",
            "800/800 [==============================] - 0s 137us/step - loss: 0.3769 - val_loss: 0.3599\n",
            "Epoch 11/100\n",
            "800/800 [==============================] - 0s 149us/step - loss: 0.3732 - val_loss: 0.3618\n",
            "Epoch 12/100\n",
            "800/800 [==============================] - 0s 138us/step - loss: 0.3714 - val_loss: 0.3597\n",
            "Epoch 13/100\n",
            "800/800 [==============================] - 0s 138us/step - loss: 0.3724 - val_loss: 0.3597\n",
            "Epoch 14/100\n",
            "800/800 [==============================] - 0s 142us/step - loss: 0.3701 - val_loss: 0.3608\n",
            "Epoch 15/100\n",
            "800/800 [==============================] - 0s 143us/step - loss: 0.3707 - val_loss: 0.3592\n",
            "Epoch 16/100\n",
            "800/800 [==============================] - 0s 127us/step - loss: 0.3683 - val_loss: 0.3682\n",
            "Epoch 17/100\n",
            "800/800 [==============================] - 0s 131us/step - loss: 0.3704 - val_loss: 0.3620\n",
            "Epoch 18/100\n",
            "800/800 [==============================] - 0s 142us/step - loss: 0.3681 - val_loss: 0.3607\n",
            "Epoch 19/100\n",
            "800/800 [==============================] - 0s 133us/step - loss: 0.3667 - val_loss: 0.3624\n",
            "Epoch 20/100\n",
            "800/800 [==============================] - 0s 142us/step - loss: 0.3702 - val_loss: 0.3595\n",
            "Epoch 21/100\n",
            "800/800 [==============================] - 0s 132us/step - loss: 0.3664 - val_loss: 0.3611\n",
            "Epoch 22/100\n",
            "800/800 [==============================] - 0s 138us/step - loss: 0.3678 - val_loss: 0.3632\n",
            "Epoch 23/100\n",
            "800/800 [==============================] - 0s 129us/step - loss: 0.3661 - val_loss: 0.3602\n",
            "Epoch 24/100\n",
            "800/800 [==============================] - 0s 157us/step - loss: 0.3651 - val_loss: 0.3609\n",
            "Epoch 25/100\n",
            "800/800 [==============================] - 0s 151us/step - loss: 0.3665 - val_loss: 0.3770\n",
            "Epoch 26/100\n",
            "800/800 [==============================] - 0s 145us/step - loss: 0.3659 - val_loss: 0.3599\n",
            "Epoch 27/100\n",
            "800/800 [==============================] - 0s 144us/step - loss: 0.3652 - val_loss: 0.3602\n",
            "Epoch 28/100\n",
            "800/800 [==============================] - 0s 142us/step - loss: 0.3645 - val_loss: 0.3617\n",
            "Epoch 29/100\n",
            "800/800 [==============================] - 0s 132us/step - loss: 0.3655 - val_loss: 0.3623\n",
            "Epoch 30/100\n",
            "800/800 [==============================] - 0s 139us/step - loss: 0.3595 - val_loss: 0.3617\n",
            "Epoch 31/100\n",
            "800/800 [==============================] - 0s 131us/step - loss: 0.3617 - val_loss: 0.3603\n",
            "Epoch 32/100\n",
            "800/800 [==============================] - 0s 134us/step - loss: 0.3601 - val_loss: 0.3612\n",
            "Epoch 33/100\n",
            "800/800 [==============================] - 0s 150us/step - loss: 0.3588 - val_loss: 0.3605\n",
            "Epoch 34/100\n",
            "800/800 [==============================] - 0s 140us/step - loss: 0.3568 - val_loss: 0.3622\n",
            "Epoch 35/100\n",
            "800/800 [==============================] - 0s 136us/step - loss: 0.3608 - val_loss: 0.3637\n",
            "Epoch 36/100\n",
            "800/800 [==============================] - 0s 137us/step - loss: 0.3578 - val_loss: 0.3662\n",
            "Epoch 37/100\n",
            "800/800 [==============================] - 0s 135us/step - loss: 0.3573 - val_loss: 0.3633\n",
            "Epoch 38/100\n",
            "800/800 [==============================] - 0s 131us/step - loss: 0.3565 - val_loss: 0.3652\n",
            "Epoch 39/100\n",
            "800/800 [==============================] - 0s 140us/step - loss: 0.3538 - val_loss: 0.3661\n",
            "Epoch 40/100\n",
            "800/800 [==============================] - 0s 132us/step - loss: 0.3566 - val_loss: 0.3620\n",
            "Epoch 41/100\n",
            "800/800 [==============================] - 0s 132us/step - loss: 0.3562 - val_loss: 0.3618\n",
            "Epoch 42/100\n",
            "800/800 [==============================] - 0s 150us/step - loss: 0.3574 - val_loss: 0.3693\n",
            "Epoch 43/100\n",
            "800/800 [==============================] - 0s 142us/step - loss: 0.3574 - val_loss: 0.3658\n",
            "Epoch 44/100\n",
            "800/800 [==============================] - 0s 130us/step - loss: 0.3573 - val_loss: 0.3620\n",
            "Epoch 45/100\n",
            "800/800 [==============================] - 0s 135us/step - loss: 0.3542 - val_loss: 0.3659\n",
            "Epoch 46/100\n",
            "800/800 [==============================] - 0s 139us/step - loss: 0.3542 - val_loss: 0.3630\n",
            "Epoch 47/100\n",
            "800/800 [==============================] - 0s 142us/step - loss: 0.3502 - val_loss: 0.3636\n",
            "Epoch 48/100\n",
            "800/800 [==============================] - 0s 140us/step - loss: 0.3534 - val_loss: 0.3658\n",
            "Epoch 49/100\n",
            "800/800 [==============================] - 0s 136us/step - loss: 0.3523 - val_loss: 0.3663\n",
            "Epoch 50/100\n",
            "800/800 [==============================] - 0s 138us/step - loss: 0.3560 - val_loss: 0.3720\n",
            "Epoch 51/100\n",
            "800/800 [==============================] - 0s 147us/step - loss: 0.3532 - val_loss: 0.3682\n",
            "Epoch 52/100\n",
            "800/800 [==============================] - 0s 141us/step - loss: 0.3529 - val_loss: 0.3679\n",
            "Epoch 53/100\n",
            "800/800 [==============================] - 0s 138us/step - loss: 0.3534 - val_loss: 0.3690\n",
            "Epoch 54/100\n",
            "800/800 [==============================] - 0s 141us/step - loss: 0.3526 - val_loss: 0.3664\n",
            "Epoch 55/100\n",
            "800/800 [==============================] - 0s 144us/step - loss: 0.3493 - val_loss: 0.3656\n",
            "Epoch 56/100\n",
            "800/800 [==============================] - 0s 141us/step - loss: 0.3538 - val_loss: 0.3647\n",
            "Epoch 57/100\n",
            "800/800 [==============================] - 0s 146us/step - loss: 0.3509 - val_loss: 0.3675\n",
            "Epoch 58/100\n",
            "800/800 [==============================] - 0s 136us/step - loss: 0.3498 - val_loss: 0.3666\n",
            "Epoch 59/100\n",
            "800/800 [==============================] - 0s 137us/step - loss: 0.3492 - val_loss: 0.3666\n",
            "Epoch 60/100\n",
            "800/800 [==============================] - 0s 148us/step - loss: 0.3513 - val_loss: 0.3686\n",
            "Epoch 61/100\n",
            "800/800 [==============================] - 0s 141us/step - loss: 0.3496 - val_loss: 0.3682\n",
            "Epoch 62/100\n",
            "800/800 [==============================] - 0s 144us/step - loss: 0.3483 - val_loss: 0.3709\n",
            "Epoch 63/100\n",
            "800/800 [==============================] - 0s 133us/step - loss: 0.3520 - val_loss: 0.3688\n",
            "Epoch 64/100\n",
            "800/800 [==============================] - 0s 129us/step - loss: 0.3488 - val_loss: 0.3708\n",
            "Epoch 65/100\n",
            "800/800 [==============================] - 0s 136us/step - loss: 0.3497 - val_loss: 0.3713\n",
            "Epoch 66/100\n",
            "800/800 [==============================] - 0s 139us/step - loss: 0.3482 - val_loss: 0.3698\n",
            "Epoch 67/100\n",
            "800/800 [==============================] - 0s 132us/step - loss: 0.3491 - val_loss: 0.3681\n",
            "Epoch 68/100\n",
            "800/800 [==============================] - 0s 134us/step - loss: 0.3459 - val_loss: 0.3668\n",
            "Epoch 69/100\n",
            "800/800 [==============================] - 0s 130us/step - loss: 0.3496 - val_loss: 0.3714\n",
            "Epoch 70/100\n",
            "800/800 [==============================] - 0s 145us/step - loss: 0.3482 - val_loss: 0.3674\n",
            "Epoch 71/100\n",
            "800/800 [==============================] - 0s 165us/step - loss: 0.3464 - val_loss: 0.3708\n",
            "Epoch 72/100\n",
            "800/800 [==============================] - 0s 142us/step - loss: 0.3424 - val_loss: 0.3700\n",
            "Epoch 73/100\n",
            "800/800 [==============================] - 0s 136us/step - loss: 0.3479 - val_loss: 0.3688\n",
            "Epoch 74/100\n",
            "800/800 [==============================] - 0s 139us/step - loss: 0.3452 - val_loss: 0.3684\n",
            "Epoch 75/100\n",
            "800/800 [==============================] - 0s 136us/step - loss: 0.3462 - val_loss: 0.3706\n",
            "Epoch 76/100\n",
            "800/800 [==============================] - 0s 130us/step - loss: 0.3450 - val_loss: 0.3715\n",
            "Epoch 77/100\n",
            "800/800 [==============================] - 0s 135us/step - loss: 0.3422 - val_loss: 0.3677\n",
            "Epoch 78/100\n",
            "800/800 [==============================] - 0s 133us/step - loss: 0.3443 - val_loss: 0.3725\n",
            "Epoch 79/100\n",
            "800/800 [==============================] - 0s 143us/step - loss: 0.3418 - val_loss: 0.3785\n",
            "Epoch 80/100\n",
            "800/800 [==============================] - 0s 147us/step - loss: 0.3461 - val_loss: 0.3697\n",
            "Epoch 81/100\n",
            "800/800 [==============================] - 0s 138us/step - loss: 0.3444 - val_loss: 0.3741\n",
            "Epoch 82/100\n",
            "800/800 [==============================] - 0s 132us/step - loss: 0.3425 - val_loss: 0.3684\n",
            "Epoch 83/100\n",
            "800/800 [==============================] - 0s 131us/step - loss: 0.3424 - val_loss: 0.3708\n",
            "Epoch 84/100\n",
            "800/800 [==============================] - 0s 138us/step - loss: 0.3463 - val_loss: 0.3741\n",
            "Epoch 85/100\n",
            "800/800 [==============================] - 0s 130us/step - loss: 0.3422 - val_loss: 0.3715\n",
            "Epoch 86/100\n",
            "800/800 [==============================] - 0s 139us/step - loss: 0.3449 - val_loss: 0.3758\n",
            "Epoch 87/100\n",
            "800/800 [==============================] - 0s 132us/step - loss: 0.3386 - val_loss: 0.3685\n",
            "Epoch 88/100\n",
            "800/800 [==============================] - 0s 162us/step - loss: 0.3397 - val_loss: 0.3723\n",
            "Epoch 89/100\n",
            "800/800 [==============================] - 0s 136us/step - loss: 0.3449 - val_loss: 0.3705\n",
            "Epoch 90/100\n",
            "800/800 [==============================] - 0s 144us/step - loss: 0.3387 - val_loss: 0.3740\n",
            "Epoch 91/100\n",
            "800/800 [==============================] - 0s 138us/step - loss: 0.3398 - val_loss: 0.3712\n",
            "Epoch 92/100\n",
            "800/800 [==============================] - 0s 139us/step - loss: 0.3391 - val_loss: 0.3710\n",
            "Epoch 93/100\n",
            "800/800 [==============================] - 0s 144us/step - loss: 0.3417 - val_loss: 0.3724\n",
            "Epoch 94/100\n",
            "800/800 [==============================] - 0s 134us/step - loss: 0.3415 - val_loss: 0.3756\n",
            "Epoch 95/100\n",
            "800/800 [==============================] - 0s 140us/step - loss: 0.3408 - val_loss: 0.3771\n",
            "Epoch 96/100\n",
            "800/800 [==============================] - 0s 151us/step - loss: 0.3383 - val_loss: 0.3755\n",
            "Epoch 97/100\n",
            "800/800 [==============================] - 0s 149us/step - loss: 0.3426 - val_loss: 0.3710\n",
            "Epoch 98/100\n",
            "800/800 [==============================] - 0s 136us/step - loss: 0.3413 - val_loss: 0.3715\n",
            "Epoch 99/100\n",
            "800/800 [==============================] - 0s 147us/step - loss: 0.3362 - val_loss: 0.3797\n",
            "Epoch 100/100\n",
            "800/800 [==============================] - 0s 132us/step - loss: 0.3378 - val_loss: 0.3775\n",
            "(200, 1)\n"
          ],
          "name": "stdout"
        }
      ]
    },
    {
      "cell_type": "code",
      "metadata": {
        "id": "jAuSf6KivI73",
        "colab_type": "code",
        "outputId": "a63f5c28-e7bc-45d4-e1ca-e8d655e1ec59",
        "colab": {
          "base_uri": "https://localhost:8080/",
          "height": 34
        }
      },
      "source": [
        "print(trainScore) #Adadelta"
      ],
      "execution_count": 54,
      "outputs": [
        {
          "output_type": "stream",
          "text": [
            "0.37745152711868285\n"
          ],
          "name": "stdout"
        }
      ]
    },
    {
      "cell_type": "code",
      "metadata": {
        "id": "GlxseXMaZ8B0",
        "colab_type": "code",
        "outputId": "f93e40c2-9595-4992-f32f-9f38d82c56e3",
        "colab": {
          "base_uri": "https://localhost:8080/",
          "height": 282
        }
      },
      "source": [
        "index = df.index.values\n",
        "print(predicted.shape)\n",
        "plt.plot(index,df)\n",
        "plt.plot(index,predicted)\n",
        "plt.axvline(df.index[Tp], c=\"r\")\n",
        "plt.show()"
      ],
      "execution_count": 0,
      "outputs": [
        {
          "output_type": "stream",
          "text": [
            "(1000, 1)\n"
          ],
          "name": "stdout"
        },
        {
          "output_type": "display_data",
          "data": {
            "image/png": "[encoded data removed]",
            "text/plain": [
              "<Figure size 432x288 with 1 Axes>"
            ]
          },
          "metadata": {
            "tags": []
          }
        }
      ]
    },
    {
      "cell_type": "markdown",
      "metadata": {
        "id": "nCAe05VG0Xfi",
        "colab_type": "text"
      },
      "source": [
        "# Experiments\n"
      ]
    },
    {
      "cell_type": "markdown",
      "metadata": {
        "id": "M6qf0Bj00bD3",
        "colab_type": "text"
      },
      "source": [
        "## Experiment 1\n",
        "\n",
        "Increasing N to 2000 and Tp to 1600\n"
      ]
    },
    {
      "cell_type": "code",
      "metadata": {
        "id": "RQzHJJvS0Y9B",
        "colab_type": "code",
        "colab": {
          "base_uri": "https://localhost:8080/",
          "height": 204
        },
        "outputId": "d35aff19-f114-4244-bdeb-9818ee8c1ec1"
      },
      "source": [
        "step = 4\n",
        "N = 2000    \n",
        "Tp = 1600    \n",
        "\n",
        "# Generating data with sine curve and adding some random value to it in range[2,-2]\n",
        "\n",
        "t=np.arange(0,N)\n",
        "# print(\"t:- \",t)\n",
        "# print(np.random.rand(N))\n",
        "x=np.sin(0.02*t)+2*np.random.rand(N)\n",
        "# print(len(x))\n",
        "df = pd.DataFrame(x)\n",
        "df.head()"
      ],
      "execution_count": 14,
      "outputs": [
        {
          "output_type": "execute_result",
          "data": {
            "text/html": [
              "<div>\n",
              "<style scoped>\n",
              "    .dataframe tbody tr th:only-of-type {\n",
              "        vertical-align: middle;\n",
              "    }\n",
              "\n",
              "    .dataframe tbody tr th {\n",
              "        vertical-align: top;\n",
              "    }\n",
              "\n",
              "    .dataframe thead th {\n",
              "        text-align: right;\n",
              "    }\n",
              "</style>\n",
              "<table border=\"1\" class=\"dataframe\">\n",
              "  <thead>\n",
              "    <tr style=\"text-align: right;\">\n",
              "      <th></th>\n",
              "      <th>0</th>\n",
              "    </tr>\n",
              "  </thead>\n",
              "  <tbody>\n",
              "    <tr>\n",
              "      <th>0</th>\n",
              "      <td>0.572979</td>\n",
              "    </tr>\n",
              "    <tr>\n",
              "      <th>1</th>\n",
              "      <td>1.015416</td>\n",
              "    </tr>\n",
              "    <tr>\n",
              "      <th>2</th>\n",
              "      <td>1.512595</td>\n",
              "    </tr>\n",
              "    <tr>\n",
              "      <th>3</th>\n",
              "      <td>0.651320</td>\n",
              "    </tr>\n",
              "    <tr>\n",
              "      <th>4</th>\n",
              "      <td>1.250747</td>\n",
              "    </tr>\n",
              "  </tbody>\n",
              "</table>\n",
              "</div>"
            ],
            "text/plain": [
              "          0\n",
              "0  0.572979\n",
              "1  1.015416\n",
              "2  1.512595\n",
              "3  0.651320\n",
              "4  1.250747"
            ]
          },
          "metadata": {
            "tags": []
          },
          "execution_count": 14
        }
      ]
    },
    {
      "cell_type": "code",
      "metadata": {
        "id": "8xooe97I1A8o",
        "colab_type": "code",
        "colab": {
          "base_uri": "https://localhost:8080/",
          "height": 265
        },
        "outputId": "2f3d8f36-3e02-475c-d656-abb6f55f3b7b"
      },
      "source": [
        "plt.plot(df)\n",
        "plt.show()"
      ],
      "execution_count": 15,
      "outputs": [
        {
          "output_type": "display_data",
          "data": {
            "image/png": "[encoded data removed]",
            "text/plain": [
              "<Figure size 432x288 with 1 Axes>"
            ]
          },
          "metadata": {
            "tags": []
          }
        }
      ]
    },
    {
      "cell_type": "code",
      "metadata": {
        "id": "voVyHES-1BYC",
        "colab_type": "code",
        "colab": {}
      },
      "source": [
        "# convert into dataset matrix\n",
        "def convertToMatrix(data, step):\n",
        " X, Y =[], []\n",
        " # print(data)\n",
        " for i in range(len(data)-step):\n",
        "  d=i+step \n",
        "  # print(d) \n",
        "  X.append(data[i:d,])\n",
        "  Y.append(data[d,])\n",
        "  # if i == 7:\n",
        "  #   break\n",
        " return np.array(X), np.array(Y)"
      ],
      "execution_count": 0,
      "outputs": []
    },
    {
      "cell_type": "code",
      "metadata": {
        "id": "9A8rsnm41E4C",
        "colab_type": "code",
        "colab": {}
      },
      "source": [
        "values=df.values\n",
        "train,test = values[0:Tp,:], values[Tp:N,:]\n",
        "\n",
        "\n",
        "# print(test)\n",
        "# add step elements into train and test\n",
        "\n",
        "test = np.append(test,np.repeat(test[-1,],step))\n",
        "train = np.append(train,np.repeat(train[-1,],step))\n",
        "# print(train)\n",
        "\n",
        "\n",
        "trainX,trainY =convertToMatrix(train,step)\n",
        "testX,testY =convertToMatrix(test,step)\n",
        "\n",
        "# print(trainX)\n",
        "# print(trainX.shape)\n",
        "# print(trainY)\n",
        "# print(trainY.shape)\n",
        "\n",
        "# print(testX)\n",
        "# print(testX.shape)\n",
        "# print(testY)\n",
        "# print(testY.shape)\n",
        "trainX = np.reshape(trainX, (trainX.shape[0], 1, trainX.shape[1]))\n",
        "testX = np.reshape(testX, (testX.shape[0], 1, testX.shape[1]))"
      ],
      "execution_count": 0,
      "outputs": []
    },
    {
      "cell_type": "code",
      "metadata": {
        "id": "bQjFvgtc1HKy",
        "colab_type": "code",
        "colab": {
          "base_uri": "https://localhost:8080/",
          "height": 255
        },
        "outputId": "83e0c6f4-4184-48d0-c6f0-fe8c78e0de46"
      },
      "source": [
        "model = Sequential()\n",
        "model.add(SimpleRNN(units=32, input_shape=(1,step), activation=\"relu\"))\n",
        "# model.add(SimpleRNN(units = 64,return_sequences=True))\n",
        "# model.add(SimpleRNN(units = 32))\n",
        "model.add(Dense(8, activation=\"relu\")) \n",
        "model.add(Dense(1))\n",
        "model.compile(loss='mean_squared_error', optimizer='rmsprop')\n",
        "model.summary()"
      ],
      "execution_count": 18,
      "outputs": [
        {
          "output_type": "stream",
          "text": [
            "Model: \"sequential_2\"\n",
            "_________________________________________________________________\n",
            "Layer (type)                 Output Shape              Param #   \n",
            "=================================================================\n",
            "simple_rnn_2 (SimpleRNN)     (None, 32)                1184      \n",
            "_________________________________________________________________\n",
            "dense_3 (Dense)              (None, 8)                 264       \n",
            "_________________________________________________________________\n",
            "dense_4 (Dense)              (None, 1)                 9         \n",
            "=================================================================\n",
            "Total params: 1,457\n",
            "Trainable params: 1,457\n",
            "Non-trainable params: 0\n",
            "_________________________________________________________________\n"
          ],
          "name": "stdout"
        }
      ]
    },
    {
      "cell_type": "code",
      "metadata": {
        "id": "OIaFOlYc1JuC",
        "colab_type": "code",
        "colab": {
          "base_uri": "https://localhost:8080/",
          "height": 1000
        },
        "outputId": "dbb305ab-1ef7-41b6-e62d-bc5e7e4b2d4f"
      },
      "source": [
        "model.fit(trainX,trainY,validation_data=(testX,testY), epochs=100, batch_size=32, verbose=1)\n",
        "trainPredict = model.predict(trainX)\n",
        "testPredict= model.predict(testX)\n",
        "print(testPredict.shape)\n",
        "predicted=np.concatenate((trainPredict,testPredict),axis=0)\n",
        "trainScore = model.evaluate(testX, testY, verbose=0)\n"
      ],
      "execution_count": 19,
      "outputs": [
        {
          "output_type": "stream",
          "text": [
            "Train on 1600 samples, validate on 400 samples\n",
            "Epoch 1/100\n",
            "1600/1600 [==============================] - 2s 1ms/step - loss: 1.4064 - val_loss: 0.4986\n",
            "Epoch 2/100\n",
            "1600/1600 [==============================] - 0s 137us/step - loss: 0.4475 - val_loss: 0.4199\n",
            "Epoch 3/100\n",
            "1600/1600 [==============================] - 0s 131us/step - loss: 0.4231 - val_loss: 0.4183\n",
            "Epoch 4/100\n",
            "1600/1600 [==============================] - 0s 142us/step - loss: 0.4183 - val_loss: 0.4020\n",
            "Epoch 5/100\n",
            "1600/1600 [==============================] - 0s 140us/step - loss: 0.4139 - val_loss: 0.4010\n",
            "Epoch 6/100\n",
            "1600/1600 [==============================] - 0s 130us/step - loss: 0.4119 - val_loss: 0.4097\n",
            "Epoch 7/100\n",
            "1600/1600 [==============================] - 0s 132us/step - loss: 0.4105 - val_loss: 0.3978\n",
            "Epoch 8/100\n",
            "1600/1600 [==============================] - 0s 135us/step - loss: 0.4100 - val_loss: 0.3990\n",
            "Epoch 9/100\n",
            "1600/1600 [==============================] - 0s 133us/step - loss: 0.4083 - val_loss: 0.3966\n",
            "Epoch 10/100\n",
            "1600/1600 [==============================] - 0s 136us/step - loss: 0.4075 - val_loss: 0.3979\n",
            "Epoch 11/100\n",
            "1600/1600 [==============================] - 0s 145us/step - loss: 0.4047 - val_loss: 0.4046\n",
            "Epoch 12/100\n",
            "1600/1600 [==============================] - 0s 156us/step - loss: 0.4048 - val_loss: 0.3993\n",
            "Epoch 13/100\n",
            "1600/1600 [==============================] - 0s 154us/step - loss: 0.4045 - val_loss: 0.3968\n",
            "Epoch 14/100\n",
            "1600/1600 [==============================] - 0s 128us/step - loss: 0.4032 - val_loss: 0.3958\n",
            "Epoch 15/100\n",
            "1600/1600 [==============================] - 0s 131us/step - loss: 0.4008 - val_loss: 0.3984\n",
            "Epoch 16/100\n",
            "1600/1600 [==============================] - 0s 137us/step - loss: 0.4020 - val_loss: 0.4010\n",
            "Epoch 17/100\n",
            "1600/1600 [==============================] - 0s 124us/step - loss: 0.4018 - val_loss: 0.4053\n",
            "Epoch 18/100\n",
            "1600/1600 [==============================] - 0s 138us/step - loss: 0.4007 - val_loss: 0.3964\n",
            "Epoch 19/100\n",
            "1600/1600 [==============================] - 0s 122us/step - loss: 0.4011 - val_loss: 0.3970\n",
            "Epoch 20/100\n",
            "1600/1600 [==============================] - 0s 137us/step - loss: 0.3992 - val_loss: 0.3982\n",
            "Epoch 21/100\n",
            "1600/1600 [==============================] - 0s 136us/step - loss: 0.3981 - val_loss: 0.3980\n",
            "Epoch 22/100\n",
            "1600/1600 [==============================] - 0s 129us/step - loss: 0.3996 - val_loss: 0.4093\n",
            "Epoch 23/100\n",
            "1600/1600 [==============================] - 0s 133us/step - loss: 0.3981 - val_loss: 0.3976\n",
            "Epoch 24/100\n",
            "1600/1600 [==============================] - 0s 129us/step - loss: 0.3984 - val_loss: 0.3973\n",
            "Epoch 25/100\n",
            "1600/1600 [==============================] - 0s 129us/step - loss: 0.3962 - val_loss: 0.4028\n",
            "Epoch 26/100\n",
            "1600/1600 [==============================] - 0s 139us/step - loss: 0.3972 - val_loss: 0.3967\n",
            "Epoch 27/100\n",
            "1600/1600 [==============================] - 0s 137us/step - loss: 0.3959 - val_loss: 0.3986\n",
            "Epoch 28/100\n",
            "1600/1600 [==============================] - 0s 142us/step - loss: 0.3961 - val_loss: 0.3963\n",
            "Epoch 29/100\n",
            "1600/1600 [==============================] - 0s 131us/step - loss: 0.3959 - val_loss: 0.3973\n",
            "Epoch 30/100\n",
            "1600/1600 [==============================] - 0s 128us/step - loss: 0.3962 - val_loss: 0.4037\n",
            "Epoch 31/100\n",
            "1600/1600 [==============================] - 0s 136us/step - loss: 0.3951 - val_loss: 0.3988\n",
            "Epoch 32/100\n",
            "1600/1600 [==============================] - 0s 135us/step - loss: 0.3946 - val_loss: 0.3953\n",
            "Epoch 33/100\n",
            "1600/1600 [==============================] - 0s 134us/step - loss: 0.3945 - val_loss: 0.3981\n",
            "Epoch 34/100\n",
            "1600/1600 [==============================] - 0s 129us/step - loss: 0.3949 - val_loss: 0.3972\n",
            "Epoch 35/100\n",
            "1600/1600 [==============================] - 0s 131us/step - loss: 0.3933 - val_loss: 0.3972\n",
            "Epoch 36/100\n",
            "1600/1600 [==============================] - 0s 131us/step - loss: 0.3941 - val_loss: 0.4027\n",
            "Epoch 37/100\n",
            "1600/1600 [==============================] - 0s 129us/step - loss: 0.3913 - val_loss: 0.3970\n",
            "Epoch 38/100\n",
            "1600/1600 [==============================] - 0s 126us/step - loss: 0.3922 - val_loss: 0.3987\n",
            "Epoch 39/100\n",
            "1600/1600 [==============================] - 0s 128us/step - loss: 0.3907 - val_loss: 0.3997\n",
            "Epoch 40/100\n",
            "1600/1600 [==============================] - 0s 123us/step - loss: 0.3915 - val_loss: 0.3979\n",
            "Epoch 41/100\n",
            "1600/1600 [==============================] - 0s 132us/step - loss: 0.3911 - val_loss: 0.3996\n",
            "Epoch 42/100\n",
            "1600/1600 [==============================] - 0s 131us/step - loss: 0.3914 - val_loss: 0.4040\n",
            "Epoch 43/100\n",
            "1600/1600 [==============================] - 0s 124us/step - loss: 0.3876 - val_loss: 0.3971\n",
            "Epoch 44/100\n",
            "1600/1600 [==============================] - 0s 127us/step - loss: 0.3916 - val_loss: 0.3977\n",
            "Epoch 45/100\n",
            "1600/1600 [==============================] - 0s 133us/step - loss: 0.3892 - val_loss: 0.3965\n",
            "Epoch 46/100\n",
            "1600/1600 [==============================] - 0s 136us/step - loss: 0.3881 - val_loss: 0.4103\n",
            "Epoch 47/100\n",
            "1600/1600 [==============================] - 0s 140us/step - loss: 0.3895 - val_loss: 0.3976\n",
            "Epoch 48/100\n",
            "1600/1600 [==============================] - 0s 138us/step - loss: 0.3891 - val_loss: 0.4169\n",
            "Epoch 49/100\n",
            "1600/1600 [==============================] - 0s 135us/step - loss: 0.3886 - val_loss: 0.4017\n",
            "Epoch 50/100\n",
            "1600/1600 [==============================] - 0s 134us/step - loss: 0.3879 - val_loss: 0.4009\n",
            "Epoch 51/100\n",
            "1600/1600 [==============================] - 0s 138us/step - loss: 0.3873 - val_loss: 0.3996\n",
            "Epoch 52/100\n",
            "1600/1600 [==============================] - 0s 135us/step - loss: 0.3862 - val_loss: 0.4035\n",
            "Epoch 53/100\n",
            "1600/1600 [==============================] - 0s 131us/step - loss: 0.3875 - val_loss: 0.3995\n",
            "Epoch 54/100\n",
            "1600/1600 [==============================] - 0s 149us/step - loss: 0.3858 - val_loss: 0.3957\n",
            "Epoch 55/100\n",
            "1600/1600 [==============================] - 0s 139us/step - loss: 0.3837 - val_loss: 0.3989\n",
            "Epoch 56/100\n",
            "1600/1600 [==============================] - 0s 143us/step - loss: 0.3853 - val_loss: 0.3996\n",
            "Epoch 57/100\n",
            "1600/1600 [==============================] - 0s 132us/step - loss: 0.3848 - val_loss: 0.3993\n",
            "Epoch 58/100\n",
            "1600/1600 [==============================] - 0s 137us/step - loss: 0.3846 - val_loss: 0.4081\n",
            "Epoch 59/100\n",
            "1600/1600 [==============================] - 0s 137us/step - loss: 0.3852 - val_loss: 0.4081\n",
            "Epoch 60/100\n",
            "1600/1600 [==============================] - 0s 132us/step - loss: 0.3857 - val_loss: 0.3978\n",
            "Epoch 61/100\n",
            "1600/1600 [==============================] - 0s 141us/step - loss: 0.3850 - val_loss: 0.3991\n",
            "Epoch 62/100\n",
            "1600/1600 [==============================] - 0s 135us/step - loss: 0.3846 - val_loss: 0.3986\n",
            "Epoch 63/100\n",
            "1600/1600 [==============================] - 0s 126us/step - loss: 0.3836 - val_loss: 0.3986\n",
            "Epoch 64/100\n",
            "1600/1600 [==============================] - 0s 138us/step - loss: 0.3847 - val_loss: 0.4111\n",
            "Epoch 65/100\n",
            "1600/1600 [==============================] - 0s 131us/step - loss: 0.3832 - val_loss: 0.4047\n",
            "Epoch 66/100\n",
            "1600/1600 [==============================] - 0s 145us/step - loss: 0.3833 - val_loss: 0.3982\n",
            "Epoch 67/100\n",
            "1600/1600 [==============================] - 0s 134us/step - loss: 0.3830 - val_loss: 0.3941\n",
            "Epoch 68/100\n",
            "1600/1600 [==============================] - 0s 130us/step - loss: 0.3838 - val_loss: 0.3950\n",
            "Epoch 69/100\n",
            "1600/1600 [==============================] - 0s 132us/step - loss: 0.3828 - val_loss: 0.3996\n",
            "Epoch 70/100\n",
            "1600/1600 [==============================] - 0s 141us/step - loss: 0.3830 - val_loss: 0.4025\n",
            "Epoch 71/100\n",
            "1600/1600 [==============================] - 0s 131us/step - loss: 0.3824 - val_loss: 0.4042\n",
            "Epoch 72/100\n",
            "1600/1600 [==============================] - 0s 130us/step - loss: 0.3809 - val_loss: 0.4068\n",
            "Epoch 73/100\n",
            "1600/1600 [==============================] - 0s 140us/step - loss: 0.3824 - val_loss: 0.3988\n",
            "Epoch 74/100\n",
            "1600/1600 [==============================] - 0s 135us/step - loss: 0.3821 - val_loss: 0.4015\n",
            "Epoch 75/100\n",
            "1600/1600 [==============================] - 0s 145us/step - loss: 0.3802 - val_loss: 0.3964\n",
            "Epoch 76/100\n",
            "1600/1600 [==============================] - 0s 130us/step - loss: 0.3809 - val_loss: 0.4010\n",
            "Epoch 77/100\n",
            "1600/1600 [==============================] - 0s 134us/step - loss: 0.3817 - val_loss: 0.4005\n",
            "Epoch 78/100\n",
            "1600/1600 [==============================] - 0s 135us/step - loss: 0.3824 - val_loss: 0.3983\n",
            "Epoch 79/100\n",
            "1600/1600 [==============================] - 0s 133us/step - loss: 0.3808 - val_loss: 0.4019\n",
            "Epoch 80/100\n",
            "1600/1600 [==============================] - 0s 139us/step - loss: 0.3802 - val_loss: 0.3957\n",
            "Epoch 81/100\n",
            "1600/1600 [==============================] - 0s 131us/step - loss: 0.3809 - val_loss: 0.3988\n",
            "Epoch 82/100\n",
            "1600/1600 [==============================] - 0s 134us/step - loss: 0.3809 - val_loss: 0.3944\n",
            "Epoch 83/100\n",
            "1600/1600 [==============================] - 0s 146us/step - loss: 0.3805 - val_loss: 0.4053\n",
            "Epoch 84/100\n",
            "1600/1600 [==============================] - 0s 142us/step - loss: 0.3800 - val_loss: 0.4027\n",
            "Epoch 85/100\n",
            "1600/1600 [==============================] - 0s 129us/step - loss: 0.3799 - val_loss: 0.4007\n",
            "Epoch 86/100\n",
            "1600/1600 [==============================] - 0s 136us/step - loss: 0.3800 - val_loss: 0.3978\n",
            "Epoch 87/100\n",
            "1600/1600 [==============================] - 0s 140us/step - loss: 0.3797 - val_loss: 0.3946\n",
            "Epoch 88/100\n",
            "1600/1600 [==============================] - 0s 139us/step - loss: 0.3791 - val_loss: 0.4024\n",
            "Epoch 89/100\n",
            "1600/1600 [==============================] - 0s 145us/step - loss: 0.3790 - val_loss: 0.3995\n",
            "Epoch 90/100\n",
            "1600/1600 [==============================] - 0s 144us/step - loss: 0.3789 - val_loss: 0.3990\n",
            "Epoch 91/100\n",
            "1600/1600 [==============================] - 0s 130us/step - loss: 0.3780 - val_loss: 0.4006\n",
            "Epoch 92/100\n",
            "1600/1600 [==============================] - 0s 140us/step - loss: 0.3802 - val_loss: 0.4025\n",
            "Epoch 93/100\n",
            "1600/1600 [==============================] - 0s 134us/step - loss: 0.3773 - val_loss: 0.4120\n",
            "Epoch 94/100\n",
            "1600/1600 [==============================] - 0s 136us/step - loss: 0.3811 - val_loss: 0.4020\n",
            "Epoch 95/100\n",
            "1600/1600 [==============================] - 0s 128us/step - loss: 0.3775 - val_loss: 0.4009\n",
            "Epoch 96/100\n",
            "1600/1600 [==============================] - 0s 132us/step - loss: 0.3794 - val_loss: 0.4021\n",
            "Epoch 97/100\n",
            "1600/1600 [==============================] - 0s 129us/step - loss: 0.3766 - val_loss: 0.4256\n",
            "Epoch 98/100\n",
            "1600/1600 [==============================] - 0s 135us/step - loss: 0.3798 - val_loss: 0.3993\n",
            "Epoch 99/100\n",
            "1600/1600 [==============================] - 0s 133us/step - loss: 0.3783 - val_loss: 0.4011\n",
            "Epoch 100/100\n",
            "1600/1600 [==============================] - 0s 135us/step - loss: 0.3781 - val_loss: 0.3995\n",
            "(400, 1)\n"
          ],
          "name": "stdout"
        }
      ]
    },
    {
      "cell_type": "code",
      "metadata": {
        "id": "k0dMJz2z1N3S",
        "colab_type": "code",
        "colab": {
          "base_uri": "https://localhost:8080/",
          "height": 282
        },
        "outputId": "42c7070f-cdd4-4772-bfd9-0ddb7affba2b"
      },
      "source": [
        "index = df.index.values\n",
        "print(predicted.shape)\n",
        "plt.plot(index,df)\n",
        "plt.plot(index,predicted)\n",
        "plt.axvline(df.index[Tp], c=\"r\")\n",
        "plt.show()"
      ],
      "execution_count": 20,
      "outputs": [
        {
          "output_type": "stream",
          "text": [
            "(2000, 1)\n"
          ],
          "name": "stdout"
        },
        {
          "output_type": "display_data",
          "data": {
            "image/png": "[encoded data removed]",
            "text/plain": [
              "<Figure size 432x288 with 1 Axes>"
            ]
          },
          "metadata": {
            "tags": []
          }
        }
      ]
    },
    {
      "cell_type": "code",
      "metadata": {
        "id": "oDtXoXQe1WNi",
        "colab_type": "code",
        "colab": {}
      },
      "source": [
        ""
      ],
      "execution_count": 0,
      "outputs": []
    },
    {
      "cell_type": "markdown",
      "metadata": {
        "colab_type": "text",
        "id": "4i1kB2rQ1ogU"
      },
      "source": [
        "## Experiment 2\n",
        "\n",
        "Increasing Steps to 40 from 4\n"
      ]
    },
    {
      "cell_type": "code",
      "metadata": {
        "colab_type": "code",
        "outputId": "fdc53072-0bb7-4fb8-fe7a-42f17688b09f",
        "id": "CAWGyuwc1ogX",
        "colab": {
          "base_uri": "https://localhost:8080/",
          "height": 204
        }
      },
      "source": [
        "step = 40\n",
        "N = 1000    \n",
        "Tp = 800    \n",
        "\n",
        "# Generating data with sine curve and adding some random value to it in range[2,-2]\n",
        "\n",
        "t=np.arange(0,N)\n",
        "# print(\"t:- \",t)\n",
        "# print(np.random.rand(N))\n",
        "x=np.sin(0.02*t)+2*np.random.rand(N)\n",
        "# print(len(x))\n",
        "df = pd.DataFrame(x)\n",
        "df.head()"
      ],
      "execution_count": 22,
      "outputs": [
        {
          "output_type": "execute_result",
          "data": {
            "text/html": [
              "<div>\n",
              "<style scoped>\n",
              "    .dataframe tbody tr th:only-of-type {\n",
              "        vertical-align: middle;\n",
              "    }\n",
              "\n",
              "    .dataframe tbody tr th {\n",
              "        vertical-align: top;\n",
              "    }\n",
              "\n",
              "    .dataframe thead th {\n",
              "        text-align: right;\n",
              "    }\n",
              "</style>\n",
              "<table border=\"1\" class=\"dataframe\">\n",
              "  <thead>\n",
              "    <tr style=\"text-align: right;\">\n",
              "      <th></th>\n",
              "      <th>0</th>\n",
              "    </tr>\n",
              "  </thead>\n",
              "  <tbody>\n",
              "    <tr>\n",
              "      <th>0</th>\n",
              "      <td>1.215605</td>\n",
              "    </tr>\n",
              "    <tr>\n",
              "      <th>1</th>\n",
              "      <td>1.239164</td>\n",
              "    </tr>\n",
              "    <tr>\n",
              "      <th>2</th>\n",
              "      <td>0.070558</td>\n",
              "    </tr>\n",
              "    <tr>\n",
              "      <th>3</th>\n",
              "      <td>0.768228</td>\n",
              "    </tr>\n",
              "    <tr>\n",
              "      <th>4</th>\n",
              "      <td>1.476377</td>\n",
              "    </tr>\n",
              "  </tbody>\n",
              "</table>\n",
              "</div>"
            ],
            "text/plain": [
              "          0\n",
              "0  1.215605\n",
              "1  1.239164\n",
              "2  0.070558\n",
              "3  0.768228\n",
              "4  1.476377"
            ]
          },
          "metadata": {
            "tags": []
          },
          "execution_count": 22
        }
      ]
    },
    {
      "cell_type": "code",
      "metadata": {
        "colab_type": "code",
        "outputId": "ff565dbe-a2c5-4956-b3b2-4f4355608508",
        "id": "PIXoC3is1ogb",
        "colab": {
          "base_uri": "https://localhost:8080/",
          "height": 265
        }
      },
      "source": [
        "plt.plot(df)\n",
        "plt.show()"
      ],
      "execution_count": 23,
      "outputs": [
        {
          "output_type": "display_data",
          "data": {
            "image/png": "[encoded data removed]",
            "text/plain": [
              "<Figure size 432x288 with 1 Axes>"
            ]
          },
          "metadata": {
            "tags": []
          }
        }
      ]
    },
    {
      "cell_type": "code",
      "metadata": {
        "colab_type": "code",
        "id": "o9l491y41ogf",
        "colab": {}
      },
      "source": [
        "# convert into dataset matrix\n",
        "def convertToMatrix(data, step):\n",
        " X, Y =[], []\n",
        " # print(data)\n",
        " for i in range(len(data)-step):\n",
        "  d=i+step \n",
        "  # print(d) \n",
        "  X.append(data[i:d,])\n",
        "  Y.append(data[d,])\n",
        "  # if i == 7:\n",
        "  #   break\n",
        " return np.array(X), np.array(Y)"
      ],
      "execution_count": 0,
      "outputs": []
    },
    {
      "cell_type": "code",
      "metadata": {
        "colab_type": "code",
        "id": "Ff2KdzkV1ogi",
        "colab": {}
      },
      "source": [
        "values=df.values\n",
        "train,test = values[0:Tp,:], values[Tp:N,:]\n",
        "\n",
        "\n",
        "# print(test)\n",
        "# add step elements into train and test\n",
        "\n",
        "test = np.append(test,np.repeat(test[-1,],step))\n",
        "train = np.append(train,np.repeat(train[-1,],step))\n",
        "# print(train)\n",
        "\n",
        "\n",
        "trainX,trainY =convertToMatrix(train,step)\n",
        "testX,testY =convertToMatrix(test,step)\n",
        "\n",
        "# print(trainX)\n",
        "# print(trainX.shape)\n",
        "# print(trainY)\n",
        "# print(trainY.shape)\n",
        "\n",
        "# print(testX)\n",
        "# print(testX.shape)\n",
        "# print(testY)\n",
        "# print(testY.shape)\n",
        "trainX = np.reshape(trainX, (trainX.shape[0], 1, trainX.shape[1]))\n",
        "testX = np.reshape(testX, (testX.shape[0], 1, testX.shape[1]))"
      ],
      "execution_count": 0,
      "outputs": []
    },
    {
      "cell_type": "code",
      "metadata": {
        "colab_type": "code",
        "outputId": "fcae4063-6121-40e8-e601-704a102789fc",
        "id": "qbhWxD7j1ogl",
        "colab": {
          "base_uri": "https://localhost:8080/",
          "height": 255
        }
      },
      "source": [
        "model = Sequential()\n",
        "model.add(SimpleRNN(units=32, input_shape=(1,step), activation=\"relu\"))\n",
        "# model.add(SimpleRNN(units = 64,return_sequences=True))\n",
        "# model.add(SimpleRNN(units = 32))\n",
        "model.add(Dense(8, activation=\"relu\")) \n",
        "model.add(Dense(1))\n",
        "model.compile(loss='mean_squared_error', optimizer='rmsprop')\n",
        "model.summary()"
      ],
      "execution_count": 38,
      "outputs": [
        {
          "output_type": "stream",
          "text": [
            "Model: \"sequential_5\"\n",
            "_________________________________________________________________\n",
            "Layer (type)                 Output Shape              Param #   \n",
            "=================================================================\n",
            "simple_rnn_5 (SimpleRNN)     (None, 32)                1184      \n",
            "_________________________________________________________________\n",
            "dense_9 (Dense)              (None, 8)                 264       \n",
            "_________________________________________________________________\n",
            "dense_10 (Dense)             (None, 1)                 9         \n",
            "=================================================================\n",
            "Total params: 1,457\n",
            "Trainable params: 1,457\n",
            "Non-trainable params: 0\n",
            "_________________________________________________________________\n"
          ],
          "name": "stdout"
        }
      ]
    },
    {
      "cell_type": "code",
      "metadata": {
        "colab_type": "code",
        "outputId": "256c57bd-498a-45ac-95d2-a66a577343db",
        "id": "krVHmBxC1ogo",
        "colab": {
          "base_uri": "https://localhost:8080/",
          "height": 1000
        }
      },
      "source": [
        "model.fit(trainX,trainY,validation_data=(testX,testY), epochs=100, batch_size=32, verbose=1)\n",
        "trainPredict = model.predict(trainX)\n",
        "testPredict= model.predict(testX)\n",
        "print(testPredict.shape)\n",
        "predicted=np.concatenate((trainPredict,testPredict),axis=0)\n",
        "trainScore = model.evaluate(testX, testY, verbose=0)\n"
      ],
      "execution_count": 39,
      "outputs": [
        {
          "output_type": "stream",
          "text": [
            "Train on 800 samples, validate on 200 samples\n",
            "Epoch 1/100\n",
            "800/800 [==============================] - 1s 660us/step - loss: 2.8297 - val_loss: 1.2913\n",
            "Epoch 2/100\n",
            "800/800 [==============================] - 0s 127us/step - loss: 2.0577 - val_loss: 1.1154\n",
            "Epoch 3/100\n",
            "800/800 [==============================] - 0s 131us/step - loss: 1.7675 - val_loss: 0.8920\n",
            "Epoch 4/100\n",
            "800/800 [==============================] - 0s 135us/step - loss: 1.2679 - val_loss: 0.6506\n",
            "Epoch 5/100\n",
            "800/800 [==============================] - 0s 134us/step - loss: 0.8034 - val_loss: 0.4792\n",
            "Epoch 6/100\n",
            "800/800 [==============================] - 0s 130us/step - loss: 0.5145 - val_loss: 0.4162\n",
            "Epoch 7/100\n",
            "800/800 [==============================] - 0s 130us/step - loss: 0.4154 - val_loss: 0.4035\n",
            "Epoch 8/100\n",
            "800/800 [==============================] - 0s 132us/step - loss: 0.3963 - val_loss: 0.3927\n",
            "Epoch 9/100\n",
            "800/800 [==============================] - 0s 119us/step - loss: 0.3882 - val_loss: 0.3870\n",
            "Epoch 10/100\n",
            "800/800 [==============================] - 0s 137us/step - loss: 0.3844 - val_loss: 0.3838\n",
            "Epoch 11/100\n",
            "800/800 [==============================] - 0s 141us/step - loss: 0.3808 - val_loss: 0.3813\n",
            "Epoch 12/100\n",
            "800/800 [==============================] - 0s 150us/step - loss: 0.3776 - val_loss: 0.3790\n",
            "Epoch 13/100\n",
            "800/800 [==============================] - 0s 139us/step - loss: 0.3761 - val_loss: 0.3840\n",
            "Epoch 14/100\n",
            "800/800 [==============================] - 0s 126us/step - loss: 0.3730 - val_loss: 0.3771\n",
            "Epoch 15/100\n",
            "800/800 [==============================] - 0s 134us/step - loss: 0.3738 - val_loss: 0.3799\n",
            "Epoch 16/100\n",
            "800/800 [==============================] - 0s 122us/step - loss: 0.3714 - val_loss: 0.3815\n",
            "Epoch 17/100\n",
            "800/800 [==============================] - 0s 117us/step - loss: 0.3701 - val_loss: 0.3794\n",
            "Epoch 18/100\n",
            "800/800 [==============================] - 0s 139us/step - loss: 0.3697 - val_loss: 0.3815\n",
            "Epoch 19/100\n",
            "800/800 [==============================] - 0s 129us/step - loss: 0.3682 - val_loss: 0.3791\n",
            "Epoch 20/100\n",
            "800/800 [==============================] - 0s 137us/step - loss: 0.3678 - val_loss: 0.3803\n",
            "Epoch 21/100\n",
            "800/800 [==============================] - 0s 129us/step - loss: 0.3660 - val_loss: 0.3829\n",
            "Epoch 22/100\n",
            "800/800 [==============================] - 0s 139us/step - loss: 0.3643 - val_loss: 0.3797\n",
            "Epoch 23/100\n",
            "800/800 [==============================] - 0s 137us/step - loss: 0.3631 - val_loss: 0.3783\n",
            "Epoch 24/100\n",
            "800/800 [==============================] - 0s 130us/step - loss: 0.3653 - val_loss: 0.3781\n",
            "Epoch 25/100\n",
            "800/800 [==============================] - 0s 130us/step - loss: 0.3630 - val_loss: 0.3793\n",
            "Epoch 26/100\n",
            "800/800 [==============================] - 0s 124us/step - loss: 0.3629 - val_loss: 0.3782\n",
            "Epoch 27/100\n",
            "800/800 [==============================] - 0s 134us/step - loss: 0.3623 - val_loss: 0.3791\n",
            "Epoch 28/100\n",
            "800/800 [==============================] - 0s 124us/step - loss: 0.3597 - val_loss: 0.3778\n",
            "Epoch 29/100\n",
            "800/800 [==============================] - 0s 138us/step - loss: 0.3605 - val_loss: 0.3798\n",
            "Epoch 30/100\n",
            "800/800 [==============================] - 0s 162us/step - loss: 0.3585 - val_loss: 0.3813\n",
            "Epoch 31/100\n",
            "800/800 [==============================] - 0s 131us/step - loss: 0.3600 - val_loss: 0.3781\n",
            "Epoch 32/100\n",
            "800/800 [==============================] - 0s 134us/step - loss: 0.3597 - val_loss: 0.3822\n",
            "Epoch 33/100\n",
            "800/800 [==============================] - 0s 129us/step - loss: 0.3595 - val_loss: 0.3791\n",
            "Epoch 34/100\n",
            "800/800 [==============================] - 0s 132us/step - loss: 0.3576 - val_loss: 0.3801\n",
            "Epoch 35/100\n",
            "800/800 [==============================] - 0s 129us/step - loss: 0.3571 - val_loss: 0.3795\n",
            "Epoch 36/100\n",
            "800/800 [==============================] - 0s 123us/step - loss: 0.3572 - val_loss: 0.3780\n",
            "Epoch 37/100\n",
            "800/800 [==============================] - 0s 133us/step - loss: 0.3573 - val_loss: 0.3764\n",
            "Epoch 38/100\n",
            "800/800 [==============================] - 0s 126us/step - loss: 0.3576 - val_loss: 0.3788\n",
            "Epoch 39/100\n",
            "800/800 [==============================] - 0s 132us/step - loss: 0.3556 - val_loss: 0.3802\n",
            "Epoch 40/100\n",
            "800/800 [==============================] - 0s 128us/step - loss: 0.3544 - val_loss: 0.3783\n",
            "Epoch 41/100\n",
            "800/800 [==============================] - 0s 142us/step - loss: 0.3546 - val_loss: 0.3834\n",
            "Epoch 42/100\n",
            "800/800 [==============================] - 0s 125us/step - loss: 0.3552 - val_loss: 0.3802\n",
            "Epoch 43/100\n",
            "800/800 [==============================] - 0s 122us/step - loss: 0.3553 - val_loss: 0.3817\n",
            "Epoch 44/100\n",
            "800/800 [==============================] - 0s 121us/step - loss: 0.3537 - val_loss: 0.3805\n",
            "Epoch 45/100\n",
            "800/800 [==============================] - 0s 128us/step - loss: 0.3506 - val_loss: 0.3846\n",
            "Epoch 46/100\n",
            "800/800 [==============================] - 0s 135us/step - loss: 0.3544 - val_loss: 0.3812\n",
            "Epoch 47/100\n",
            "800/800 [==============================] - 0s 140us/step - loss: 0.3537 - val_loss: 0.3818\n",
            "Epoch 48/100\n",
            "800/800 [==============================] - 0s 127us/step - loss: 0.3537 - val_loss: 0.3786\n",
            "Epoch 49/100\n",
            "800/800 [==============================] - 0s 136us/step - loss: 0.3525 - val_loss: 0.3794\n",
            "Epoch 50/100\n",
            "800/800 [==============================] - 0s 122us/step - loss: 0.3525 - val_loss: 0.3829\n",
            "Epoch 51/100\n",
            "800/800 [==============================] - 0s 129us/step - loss: 0.3516 - val_loss: 0.3782\n",
            "Epoch 52/100\n",
            "800/800 [==============================] - 0s 136us/step - loss: 0.3510 - val_loss: 0.3820\n",
            "Epoch 53/100\n",
            "800/800 [==============================] - 0s 165us/step - loss: 0.3508 - val_loss: 0.3816\n",
            "Epoch 54/100\n",
            "800/800 [==============================] - 0s 133us/step - loss: 0.3522 - val_loss: 0.3819\n",
            "Epoch 55/100\n",
            "800/800 [==============================] - 0s 135us/step - loss: 0.3496 - val_loss: 0.3818\n",
            "Epoch 56/100\n",
            "800/800 [==============================] - 0s 133us/step - loss: 0.3506 - val_loss: 0.3827\n",
            "Epoch 57/100\n",
            "800/800 [==============================] - 0s 124us/step - loss: 0.3500 - val_loss: 0.3786\n",
            "Epoch 58/100\n",
            "800/800 [==============================] - 0s 136us/step - loss: 0.3506 - val_loss: 0.3791\n",
            "Epoch 59/100\n",
            "800/800 [==============================] - 0s 122us/step - loss: 0.3492 - val_loss: 0.3810\n",
            "Epoch 60/100\n",
            "800/800 [==============================] - 0s 128us/step - loss: 0.3498 - val_loss: 0.3796\n",
            "Epoch 61/100\n",
            "800/800 [==============================] - 0s 132us/step - loss: 0.3494 - val_loss: 0.3802\n",
            "Epoch 62/100\n",
            "800/800 [==============================] - 0s 131us/step - loss: 0.3491 - val_loss: 0.3822\n",
            "Epoch 63/100\n",
            "800/800 [==============================] - 0s 132us/step - loss: 0.3487 - val_loss: 0.3831\n",
            "Epoch 64/100\n",
            "800/800 [==============================] - 0s 129us/step - loss: 0.3486 - val_loss: 0.3802\n",
            "Epoch 65/100\n",
            "800/800 [==============================] - 0s 130us/step - loss: 0.3464 - val_loss: 0.3821\n",
            "Epoch 66/100\n",
            "800/800 [==============================] - 0s 133us/step - loss: 0.3484 - val_loss: 0.3794\n",
            "Epoch 67/100\n",
            "800/800 [==============================] - 0s 129us/step - loss: 0.3470 - val_loss: 0.3825\n",
            "Epoch 68/100\n",
            "800/800 [==============================] - 0s 141us/step - loss: 0.3461 - val_loss: 0.3832\n",
            "Epoch 69/100\n",
            "800/800 [==============================] - 0s 124us/step - loss: 0.3476 - val_loss: 0.3833\n",
            "Epoch 70/100\n",
            "800/800 [==============================] - 0s 131us/step - loss: 0.3464 - val_loss: 0.3811\n",
            "Epoch 71/100\n",
            "800/800 [==============================] - 0s 121us/step - loss: 0.3465 - val_loss: 0.3835\n",
            "Epoch 72/100\n",
            "800/800 [==============================] - 0s 137us/step - loss: 0.3463 - val_loss: 0.3825\n",
            "Epoch 73/100\n",
            "800/800 [==============================] - 0s 142us/step - loss: 0.3452 - val_loss: 0.3814\n",
            "Epoch 74/100\n",
            "800/800 [==============================] - 0s 129us/step - loss: 0.3456 - val_loss: 0.3824\n",
            "Epoch 75/100\n",
            "800/800 [==============================] - 0s 136us/step - loss: 0.3449 - val_loss: 0.3817\n",
            "Epoch 76/100\n",
            "800/800 [==============================] - 0s 148us/step - loss: 0.3437 - val_loss: 0.3836\n",
            "Epoch 77/100\n",
            "800/800 [==============================] - 0s 166us/step - loss: 0.3448 - val_loss: 0.3819\n",
            "Epoch 78/100\n",
            "800/800 [==============================] - 0s 149us/step - loss: 0.3448 - val_loss: 0.3837\n",
            "Epoch 79/100\n",
            "800/800 [==============================] - 0s 150us/step - loss: 0.3450 - val_loss: 0.3844\n",
            "Epoch 80/100\n",
            "800/800 [==============================] - 0s 152us/step - loss: 0.3431 - val_loss: 0.3868\n",
            "Epoch 81/100\n",
            "800/800 [==============================] - 0s 130us/step - loss: 0.3436 - val_loss: 0.3817\n",
            "Epoch 82/100\n",
            "800/800 [==============================] - 0s 127us/step - loss: 0.3435 - val_loss: 0.3859\n",
            "Epoch 83/100\n",
            "800/800 [==============================] - 0s 128us/step - loss: 0.3430 - val_loss: 0.3865\n",
            "Epoch 84/100\n",
            "800/800 [==============================] - 0s 123us/step - loss: 0.3429 - val_loss: 0.3870\n",
            "Epoch 85/100\n",
            "800/800 [==============================] - 0s 126us/step - loss: 0.3433 - val_loss: 0.3854\n",
            "Epoch 86/100\n",
            "800/800 [==============================] - 0s 140us/step - loss: 0.3427 - val_loss: 0.3863\n",
            "Epoch 87/100\n",
            "800/800 [==============================] - 0s 131us/step - loss: 0.3430 - val_loss: 0.3862\n",
            "Epoch 88/100\n",
            "800/800 [==============================] - 0s 126us/step - loss: 0.3417 - val_loss: 0.3854\n",
            "Epoch 89/100\n",
            "800/800 [==============================] - 0s 140us/step - loss: 0.3418 - val_loss: 0.3844\n",
            "Epoch 90/100\n",
            "800/800 [==============================] - 0s 137us/step - loss: 0.3403 - val_loss: 0.3861\n",
            "Epoch 91/100\n",
            "800/800 [==============================] - 0s 134us/step - loss: 0.3411 - val_loss: 0.3856\n",
            "Epoch 92/100\n",
            "800/800 [==============================] - 0s 128us/step - loss: 0.3402 - val_loss: 0.3877\n",
            "Epoch 93/100\n",
            "800/800 [==============================] - 0s 131us/step - loss: 0.3409 - val_loss: 0.3848\n",
            "Epoch 94/100\n",
            "800/800 [==============================] - 0s 134us/step - loss: 0.3408 - val_loss: 0.3870\n",
            "Epoch 95/100\n",
            "800/800 [==============================] - 0s 130us/step - loss: 0.3406 - val_loss: 0.3852\n",
            "Epoch 96/100\n",
            "800/800 [==============================] - 0s 147us/step - loss: 0.3394 - val_loss: 0.3895\n",
            "Epoch 97/100\n",
            "800/800 [==============================] - 0s 129us/step - loss: 0.3389 - val_loss: 0.3874\n",
            "Epoch 98/100\n",
            "800/800 [==============================] - 0s 126us/step - loss: 0.3411 - val_loss: 0.3864\n",
            "Epoch 99/100\n",
            "800/800 [==============================] - 0s 124us/step - loss: 0.3387 - val_loss: 0.3877\n",
            "Epoch 100/100\n",
            "800/800 [==============================] - 0s 137us/step - loss: 0.3403 - val_loss: 0.3904\n",
            "(200, 1)\n"
          ],
          "name": "stdout"
        }
      ]
    },
    {
      "cell_type": "code",
      "metadata": {
        "colab_type": "code",
        "outputId": "c5b4cb67-1fb3-4070-ed62-12ff9f33f58c",
        "id": "ARXxTazK1ogq",
        "colab": {
          "base_uri": "https://localhost:8080/",
          "height": 282
        }
      },
      "source": [
        "index = df.index.values\n",
        "print(predicted.shape)\n",
        "plt.plot(index,df)\n",
        "plt.plot(index,predicted)\n",
        "plt.axvline(df.index[Tp], c=\"r\")\n",
        "plt.show()"
      ],
      "execution_count": 40,
      "outputs": [
        {
          "output_type": "stream",
          "text": [
            "(1000, 1)\n"
          ],
          "name": "stdout"
        },
        {
          "output_type": "display_data",
          "data": {
            "image/png": "[encoded data removed]",
            "text/plain": [
              "<Figure size 432x288 with 1 Axes>"
            ]
          },
          "metadata": {
            "tags": []
          }
        }
      ]
    },
    {
      "cell_type": "code",
      "metadata": {
        "colab_type": "code",
        "id": "gozH4YAe1ogt",
        "colab": {}
      },
      "source": [
        ""
      ],
      "execution_count": 0,
      "outputs": []
    },
    {
      "cell_type": "code",
      "metadata": {
        "id": "zTNrYsY51d1y",
        "colab_type": "code",
        "colab": {}
      },
      "source": [
        ""
      ],
      "execution_count": 0,
      "outputs": []
    },
    {
      "cell_type": "markdown",
      "metadata": {
        "id": "I_8IJby82INm",
        "colab_type": "text"
      },
      "source": [
        ""
      ]
    },
    {
      "cell_type": "markdown",
      "metadata": {
        "colab_type": "text",
        "id": "0qusrag02JyV"
      },
      "source": [
        "## Experiment 3\n",
        "\n",
        "Changing activation to Tanh from relu\n"
      ]
    },
    {
      "cell_type": "code",
      "metadata": {
        "colab_type": "code",
        "outputId": "8ba4d76a-a7d9-4f21-b0e7-6f9a3aedab15",
        "id": "XzyCemLN2JyX",
        "colab": {
          "base_uri": "https://localhost:8080/",
          "height": 204
        }
      },
      "source": [
        "step = 4\n",
        "N = 1000    \n",
        "Tp = 800    \n",
        "\n",
        "# Generating data with sine curve and adding some random value to it in range[2,-2]\n",
        "\n",
        "t=np.arange(0,N)\n",
        "# print(\"t:- \",t)\n",
        "# print(np.random.rand(N))\n",
        "x=np.sin(0.02*t)+2*np.random.rand(N)\n",
        "# print(len(x))\n",
        "df = pd.DataFrame(x)\n",
        "df.head()"
      ],
      "execution_count": 31,
      "outputs": [
        {
          "output_type": "execute_result",
          "data": {
            "text/html": [
              "<div>\n",
              "<style scoped>\n",
              "    .dataframe tbody tr th:only-of-type {\n",
              "        vertical-align: middle;\n",
              "    }\n",
              "\n",
              "    .dataframe tbody tr th {\n",
              "        vertical-align: top;\n",
              "    }\n",
              "\n",
              "    .dataframe thead th {\n",
              "        text-align: right;\n",
              "    }\n",
              "</style>\n",
              "<table border=\"1\" class=\"dataframe\">\n",
              "  <thead>\n",
              "    <tr style=\"text-align: right;\">\n",
              "      <th></th>\n",
              "      <th>0</th>\n",
              "    </tr>\n",
              "  </thead>\n",
              "  <tbody>\n",
              "    <tr>\n",
              "      <th>0</th>\n",
              "      <td>0.515708</td>\n",
              "    </tr>\n",
              "    <tr>\n",
              "      <th>1</th>\n",
              "      <td>1.116524</td>\n",
              "    </tr>\n",
              "    <tr>\n",
              "      <th>2</th>\n",
              "      <td>1.200601</td>\n",
              "    </tr>\n",
              "    <tr>\n",
              "      <th>3</th>\n",
              "      <td>1.270023</td>\n",
              "    </tr>\n",
              "    <tr>\n",
              "      <th>4</th>\n",
              "      <td>1.746053</td>\n",
              "    </tr>\n",
              "  </tbody>\n",
              "</table>\n",
              "</div>"
            ],
            "text/plain": [
              "          0\n",
              "0  0.515708\n",
              "1  1.116524\n",
              "2  1.200601\n",
              "3  1.270023\n",
              "4  1.746053"
            ]
          },
          "metadata": {
            "tags": []
          },
          "execution_count": 31
        }
      ]
    },
    {
      "cell_type": "code",
      "metadata": {
        "colab_type": "code",
        "outputId": "8b6d1542-2229-4320-f561-8c4bc2fba5e0",
        "id": "YFFNmAwI2Jyb",
        "colab": {
          "base_uri": "https://localhost:8080/",
          "height": 265
        }
      },
      "source": [
        "plt.plot(df)\n",
        "plt.show()"
      ],
      "execution_count": 32,
      "outputs": [
        {
          "output_type": "display_data",
          "data": {
            "image/png": "[encoded data removed]",
            "text/plain": [
              "<Figure size 432x288 with 1 Axes>"
            ]
          },
          "metadata": {
            "tags": []
          }
        }
      ]
    },
    {
      "cell_type": "code",
      "metadata": {
        "colab_type": "code",
        "id": "lgHGFy762Jyd",
        "colab": {}
      },
      "source": [
        "# convert into dataset matrix\n",
        "def convertToMatrix(data, step):\n",
        " X, Y =[], []\n",
        " # print(data)\n",
        " for i in range(len(data)-step):\n",
        "  d=i+step \n",
        "  # print(d) \n",
        "  X.append(data[i:d,])\n",
        "  Y.append(data[d,])\n",
        "  # if i == 7:\n",
        "  #   break\n",
        " return np.array(X), np.array(Y)"
      ],
      "execution_count": 0,
      "outputs": []
    },
    {
      "cell_type": "code",
      "metadata": {
        "colab_type": "code",
        "id": "ODQaUPdJ2Jyf",
        "colab": {}
      },
      "source": [
        "values=df.values\n",
        "train,test = values[0:Tp,:], values[Tp:N,:]\n",
        "\n",
        "\n",
        "# print(test)\n",
        "# add step elements into train and test\n",
        "\n",
        "test = np.append(test,np.repeat(test[-1,],step))\n",
        "train = np.append(train,np.repeat(train[-1,],step))\n",
        "# print(train)\n",
        "\n",
        "\n",
        "trainX,trainY =convertToMatrix(train,step)\n",
        "testX,testY =convertToMatrix(test,step)\n",
        "\n",
        "# print(trainX)\n",
        "# print(trainX.shape)\n",
        "# print(trainY)\n",
        "# print(trainY.shape)\n",
        "\n",
        "# print(testX)\n",
        "# print(testX.shape)\n",
        "# print(testY)\n",
        "# print(testY.shape)\n",
        "trainX = np.reshape(trainX, (trainX.shape[0], 1, trainX.shape[1]))\n",
        "testX = np.reshape(testX, (testX.shape[0], 1, testX.shape[1]))"
      ],
      "execution_count": 0,
      "outputs": []
    },
    {
      "cell_type": "code",
      "metadata": {
        "colab_type": "code",
        "outputId": "f59fe98d-d1ce-4281-a80c-adcb0a0da981",
        "id": "xrSqygYB2Jyi",
        "colab": {
          "base_uri": "https://localhost:8080/",
          "height": 255
        }
      },
      "source": [
        "model = Sequential()\n",
        "model.add(SimpleRNN(units=32, input_shape=(1,step), activation=\"tanh\"))\n",
        "# model.add(SimpleRNN(units = 64,return_sequences=True))\n",
        "# model.add(SimpleRNN(units = 32))\n",
        "model.add(Dense(8, activation=\"tanh\")) \n",
        "model.add(Dense(1))\n",
        "model.compile(loss='mean_squared_error', optimizer='rmsprop')\n",
        "model.summary()"
      ],
      "execution_count": 35,
      "outputs": [
        {
          "output_type": "stream",
          "text": [
            "Model: \"sequential_4\"\n",
            "_________________________________________________________________\n",
            "Layer (type)                 Output Shape              Param #   \n",
            "=================================================================\n",
            "simple_rnn_4 (SimpleRNN)     (None, 32)                1184      \n",
            "_________________________________________________________________\n",
            "dense_7 (Dense)              (None, 8)                 264       \n",
            "_________________________________________________________________\n",
            "dense_8 (Dense)              (None, 1)                 9         \n",
            "=================================================================\n",
            "Total params: 1,457\n",
            "Trainable params: 1,457\n",
            "Non-trainable params: 0\n",
            "_________________________________________________________________\n"
          ],
          "name": "stdout"
        }
      ]
    },
    {
      "cell_type": "code",
      "metadata": {
        "colab_type": "code",
        "outputId": "2f50b6a3-3204-40f9-f80f-b15431830557",
        "id": "1Nd5BbHT2Jyk",
        "colab": {
          "base_uri": "https://localhost:8080/",
          "height": 1000
        }
      },
      "source": [
        "model.fit(trainX,trainY,validation_data=(testX,testY), epochs=100, batch_size=32, verbose=1)\n",
        "trainPredict = model.predict(trainX)\n",
        "testPredict= model.predict(testX)\n",
        "print(testPredict.shape)\n",
        "predicted=np.concatenate((trainPredict,testPredict),axis=0)\n",
        "trainScore = model.evaluate(testX, testY, verbose=0)\n"
      ],
      "execution_count": 36,
      "outputs": [
        {
          "output_type": "stream",
          "text": [
            "Train on 800 samples, validate on 200 samples\n",
            "Epoch 1/100\n",
            "800/800 [==============================] - 1s 633us/step - loss: 0.4642 - val_loss: 0.4466\n",
            "Epoch 2/100\n",
            "800/800 [==============================] - 0s 149us/step - loss: 0.4121 - val_loss: 0.4162\n",
            "Epoch 3/100\n",
            "800/800 [==============================] - 0s 136us/step - loss: 0.4027 - val_loss: 0.4059\n",
            "Epoch 4/100\n",
            "800/800 [==============================] - 0s 148us/step - loss: 0.3981 - val_loss: 0.4030\n",
            "Epoch 5/100\n",
            "800/800 [==============================] - 0s 129us/step - loss: 0.3967 - val_loss: 0.4073\n",
            "Epoch 6/100\n",
            "800/800 [==============================] - 0s 131us/step - loss: 0.3953 - val_loss: 0.3933\n",
            "Epoch 7/100\n",
            "800/800 [==============================] - 0s 136us/step - loss: 0.3894 - val_loss: 0.3949\n",
            "Epoch 8/100\n",
            "800/800 [==============================] - 0s 132us/step - loss: 0.3900 - val_loss: 0.3943\n",
            "Epoch 9/100\n",
            "800/800 [==============================] - 0s 136us/step - loss: 0.3869 - val_loss: 0.3915\n",
            "Epoch 10/100\n",
            "800/800 [==============================] - 0s 134us/step - loss: 0.3888 - val_loss: 0.3955\n",
            "Epoch 11/100\n",
            "800/800 [==============================] - 0s 130us/step - loss: 0.3884 - val_loss: 0.3909\n",
            "Epoch 12/100\n",
            "800/800 [==============================] - 0s 146us/step - loss: 0.3819 - val_loss: 0.3807\n",
            "Epoch 13/100\n",
            "800/800 [==============================] - 0s 134us/step - loss: 0.3819 - val_loss: 0.3851\n",
            "Epoch 14/100\n",
            "800/800 [==============================] - 0s 138us/step - loss: 0.3856 - val_loss: 0.3757\n",
            "Epoch 15/100\n",
            "800/800 [==============================] - 0s 131us/step - loss: 0.3812 - val_loss: 0.3783\n",
            "Epoch 16/100\n",
            "800/800 [==============================] - 0s 133us/step - loss: 0.3793 - val_loss: 0.3782\n",
            "Epoch 17/100\n",
            "800/800 [==============================] - 0s 127us/step - loss: 0.3799 - val_loss: 0.3747\n",
            "Epoch 18/100\n",
            "800/800 [==============================] - 0s 132us/step - loss: 0.3773 - val_loss: 0.3729\n",
            "Epoch 19/100\n",
            "800/800 [==============================] - 0s 134us/step - loss: 0.3764 - val_loss: 0.3751\n",
            "Epoch 20/100\n",
            "800/800 [==============================] - 0s 127us/step - loss: 0.3796 - val_loss: 0.3719\n",
            "Epoch 21/100\n",
            "800/800 [==============================] - 0s 145us/step - loss: 0.3757 - val_loss: 0.3711\n",
            "Epoch 22/100\n",
            "800/800 [==============================] - 0s 130us/step - loss: 0.3749 - val_loss: 0.3792\n",
            "Epoch 23/100\n",
            "800/800 [==============================] - 0s 143us/step - loss: 0.3757 - val_loss: 0.3830\n",
            "Epoch 24/100\n",
            "800/800 [==============================] - 0s 140us/step - loss: 0.3735 - val_loss: 0.3686\n",
            "Epoch 25/100\n",
            "800/800 [==============================] - 0s 129us/step - loss: 0.3735 - val_loss: 0.3754\n",
            "Epoch 26/100\n",
            "800/800 [==============================] - 0s 156us/step - loss: 0.3743 - val_loss: 0.3712\n",
            "Epoch 27/100\n",
            "800/800 [==============================] - 0s 150us/step - loss: 0.3723 - val_loss: 0.3744\n",
            "Epoch 28/100\n",
            "800/800 [==============================] - 0s 159us/step - loss: 0.3711 - val_loss: 0.3738\n",
            "Epoch 29/100\n",
            "800/800 [==============================] - 0s 154us/step - loss: 0.3725 - val_loss: 0.3664\n",
            "Epoch 30/100\n",
            "800/800 [==============================] - 0s 174us/step - loss: 0.3732 - val_loss: 0.3697\n",
            "Epoch 31/100\n",
            "800/800 [==============================] - 0s 158us/step - loss: 0.3710 - val_loss: 0.3686\n",
            "Epoch 32/100\n",
            "800/800 [==============================] - 0s 155us/step - loss: 0.3736 - val_loss: 0.3694\n",
            "Epoch 33/100\n",
            "800/800 [==============================] - 0s 160us/step - loss: 0.3696 - val_loss: 0.3792\n",
            "Epoch 34/100\n",
            "800/800 [==============================] - 0s 146us/step - loss: 0.3713 - val_loss: 0.3730\n",
            "Epoch 35/100\n",
            "800/800 [==============================] - 0s 138us/step - loss: 0.3714 - val_loss: 0.3718\n",
            "Epoch 36/100\n",
            "800/800 [==============================] - 0s 137us/step - loss: 0.3709 - val_loss: 0.3734\n",
            "Epoch 37/100\n",
            "800/800 [==============================] - 0s 142us/step - loss: 0.3708 - val_loss: 0.3695\n",
            "Epoch 38/100\n",
            "800/800 [==============================] - 0s 142us/step - loss: 0.3687 - val_loss: 0.3738\n",
            "Epoch 39/100\n",
            "800/800 [==============================] - 0s 140us/step - loss: 0.3694 - val_loss: 0.3709\n",
            "Epoch 40/100\n",
            "800/800 [==============================] - 0s 132us/step - loss: 0.3770 - val_loss: 0.3738\n",
            "Epoch 41/100\n",
            "800/800 [==============================] - 0s 135us/step - loss: 0.3682 - val_loss: 0.3710\n",
            "Epoch 42/100\n",
            "800/800 [==============================] - 0s 128us/step - loss: 0.3668 - val_loss: 0.3706\n",
            "Epoch 43/100\n",
            "800/800 [==============================] - 0s 130us/step - loss: 0.3701 - val_loss: 0.3710\n",
            "Epoch 44/100\n",
            "800/800 [==============================] - 0s 140us/step - loss: 0.3684 - val_loss: 0.3743\n",
            "Epoch 45/100\n",
            "800/800 [==============================] - 0s 137us/step - loss: 0.3694 - val_loss: 0.3702\n",
            "Epoch 46/100\n",
            "800/800 [==============================] - 0s 140us/step - loss: 0.3706 - val_loss: 0.3698\n",
            "Epoch 47/100\n",
            "800/800 [==============================] - 0s 133us/step - loss: 0.3686 - val_loss: 0.3754\n",
            "Epoch 48/100\n",
            "800/800 [==============================] - 0s 150us/step - loss: 0.3693 - val_loss: 0.3709\n",
            "Epoch 49/100\n",
            "800/800 [==============================] - 0s 137us/step - loss: 0.3682 - val_loss: 0.3739\n",
            "Epoch 50/100\n",
            "800/800 [==============================] - 0s 134us/step - loss: 0.3703 - val_loss: 0.3700\n",
            "Epoch 51/100\n",
            "800/800 [==============================] - 0s 137us/step - loss: 0.3680 - val_loss: 0.3742\n",
            "Epoch 52/100\n",
            "800/800 [==============================] - 0s 122us/step - loss: 0.3682 - val_loss: 0.3753\n",
            "Epoch 53/100\n",
            "800/800 [==============================] - 0s 130us/step - loss: 0.3661 - val_loss: 0.3879\n",
            "Epoch 54/100\n",
            "800/800 [==============================] - 0s 136us/step - loss: 0.3705 - val_loss: 0.3710\n",
            "Epoch 55/100\n",
            "800/800 [==============================] - 0s 144us/step - loss: 0.3678 - val_loss: 0.3736\n",
            "Epoch 56/100\n",
            "800/800 [==============================] - 0s 134us/step - loss: 0.3681 - val_loss: 0.3743\n",
            "Epoch 57/100\n",
            "800/800 [==============================] - 0s 143us/step - loss: 0.3678 - val_loss: 0.3744\n",
            "Epoch 58/100\n",
            "800/800 [==============================] - 0s 138us/step - loss: 0.3679 - val_loss: 0.3723\n",
            "Epoch 59/100\n",
            "800/800 [==============================] - 0s 138us/step - loss: 0.3674 - val_loss: 0.3724\n",
            "Epoch 60/100\n",
            "800/800 [==============================] - 0s 148us/step - loss: 0.3682 - val_loss: 0.3793\n",
            "Epoch 61/100\n",
            "800/800 [==============================] - 0s 140us/step - loss: 0.3701 - val_loss: 0.3738\n",
            "Epoch 62/100\n",
            "800/800 [==============================] - 0s 129us/step - loss: 0.3676 - val_loss: 0.3723\n",
            "Epoch 63/100\n",
            "800/800 [==============================] - 0s 135us/step - loss: 0.3661 - val_loss: 0.3690\n",
            "Epoch 64/100\n",
            "800/800 [==============================] - 0s 126us/step - loss: 0.3674 - val_loss: 0.3700\n",
            "Epoch 65/100\n",
            "800/800 [==============================] - 0s 127us/step - loss: 0.3642 - val_loss: 0.3711\n",
            "Epoch 66/100\n",
            "800/800 [==============================] - 0s 139us/step - loss: 0.3685 - val_loss: 0.3789\n",
            "Epoch 67/100\n",
            "800/800 [==============================] - 0s 128us/step - loss: 0.3689 - val_loss: 0.3716\n",
            "Epoch 68/100\n",
            "800/800 [==============================] - 0s 132us/step - loss: 0.3673 - val_loss: 0.3732\n",
            "Epoch 69/100\n",
            "800/800 [==============================] - 0s 136us/step - loss: 0.3671 - val_loss: 0.3729\n",
            "Epoch 70/100\n",
            "800/800 [==============================] - 0s 121us/step - loss: 0.3680 - val_loss: 0.3723\n",
            "Epoch 71/100\n",
            "800/800 [==============================] - 0s 133us/step - loss: 0.3687 - val_loss: 0.3714\n",
            "Epoch 72/100\n",
            "800/800 [==============================] - 0s 129us/step - loss: 0.3681 - val_loss: 0.3714\n",
            "Epoch 73/100\n",
            "800/800 [==============================] - 0s 124us/step - loss: 0.3663 - val_loss: 0.3697\n",
            "Epoch 74/100\n",
            "800/800 [==============================] - 0s 130us/step - loss: 0.3671 - val_loss: 0.3696\n",
            "Epoch 75/100\n",
            "800/800 [==============================] - 0s 127us/step - loss: 0.3685 - val_loss: 0.3733\n",
            "Epoch 76/100\n",
            "800/800 [==============================] - 0s 132us/step - loss: 0.3668 - val_loss: 0.3737\n",
            "Epoch 77/100\n",
            "800/800 [==============================] - 0s 136us/step - loss: 0.3682 - val_loss: 0.3728\n",
            "Epoch 78/100\n",
            "800/800 [==============================] - 0s 133us/step - loss: 0.3659 - val_loss: 0.3698\n",
            "Epoch 79/100\n",
            "800/800 [==============================] - 0s 127us/step - loss: 0.3667 - val_loss: 0.3763\n",
            "Epoch 80/100\n",
            "800/800 [==============================] - 0s 126us/step - loss: 0.3673 - val_loss: 0.3771\n",
            "Epoch 81/100\n",
            "800/800 [==============================] - 0s 129us/step - loss: 0.3666 - val_loss: 0.3727\n",
            "Epoch 82/100\n",
            "800/800 [==============================] - 0s 132us/step - loss: 0.3667 - val_loss: 0.3788\n",
            "Epoch 83/100\n",
            "800/800 [==============================] - 0s 128us/step - loss: 0.3681 - val_loss: 0.3747\n",
            "Epoch 84/100\n",
            "800/800 [==============================] - 0s 129us/step - loss: 0.3679 - val_loss: 0.3754\n",
            "Epoch 85/100\n",
            "800/800 [==============================] - 0s 146us/step - loss: 0.3632 - val_loss: 0.3892\n",
            "Epoch 86/100\n",
            "800/800 [==============================] - 0s 135us/step - loss: 0.3687 - val_loss: 0.3733\n",
            "Epoch 87/100\n",
            "800/800 [==============================] - 0s 134us/step - loss: 0.3674 - val_loss: 0.3724\n",
            "Epoch 88/100\n",
            "800/800 [==============================] - 0s 129us/step - loss: 0.3637 - val_loss: 0.3825\n",
            "Epoch 89/100\n",
            "800/800 [==============================] - 0s 129us/step - loss: 0.3661 - val_loss: 0.3731\n",
            "Epoch 90/100\n",
            "800/800 [==============================] - 0s 137us/step - loss: 0.3633 - val_loss: 0.3975\n",
            "Epoch 91/100\n",
            "800/800 [==============================] - 0s 134us/step - loss: 0.3673 - val_loss: 0.3715\n",
            "Epoch 92/100\n",
            "800/800 [==============================] - 0s 129us/step - loss: 0.3657 - val_loss: 0.3728\n",
            "Epoch 93/100\n",
            "800/800 [==============================] - 0s 133us/step - loss: 0.3661 - val_loss: 0.3760\n",
            "Epoch 94/100\n",
            "800/800 [==============================] - 0s 121us/step - loss: 0.3650 - val_loss: 0.3697\n",
            "Epoch 95/100\n",
            "800/800 [==============================] - 0s 137us/step - loss: 0.3654 - val_loss: 0.3709\n",
            "Epoch 96/100\n",
            "800/800 [==============================] - 0s 127us/step - loss: 0.3656 - val_loss: 0.3717\n",
            "Epoch 97/100\n",
            "800/800 [==============================] - 0s 133us/step - loss: 0.3656 - val_loss: 0.3739\n",
            "Epoch 98/100\n",
            "800/800 [==============================] - 0s 138us/step - loss: 0.3647 - val_loss: 0.3718\n",
            "Epoch 99/100\n",
            "800/800 [==============================] - 0s 130us/step - loss: 0.3653 - val_loss: 0.3739\n",
            "Epoch 100/100\n",
            "800/800 [==============================] - 0s 126us/step - loss: 0.3624 - val_loss: 0.3866\n",
            "(200, 1)\n"
          ],
          "name": "stdout"
        }
      ]
    },
    {
      "cell_type": "code",
      "metadata": {
        "colab_type": "code",
        "outputId": "cb614729-4c6e-4e56-af25-3acb7868a0af",
        "id": "ewiBaQZ_2Jym",
        "colab": {
          "base_uri": "https://localhost:8080/",
          "height": 282
        }
      },
      "source": [
        "index = df.index.values\n",
        "print(predicted.shape)\n",
        "plt.plot(index,df)\n",
        "plt.plot(index,predicted)\n",
        "plt.axvline(df.index[Tp], c=\"r\")\n",
        "plt.show()"
      ],
      "execution_count": 37,
      "outputs": [
        {
          "output_type": "stream",
          "text": [
            "(1000, 1)\n"
          ],
          "name": "stdout"
        },
        {
          "output_type": "display_data",
          "data": {
            "image/png": "[encoded data removed]",
            "text/plain": [
              "<Figure size 432x288 with 1 Axes>"
            ]
          },
          "metadata": {
            "tags": []
          }
        }
      ]
    }
  ]
}