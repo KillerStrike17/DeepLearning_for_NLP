{
  "nbformat": 4,
  "nbformat_minor": 0,
  "metadata": {
    "colab": {
      "name": "SimpleRNN for IMDB Dataset.ipynb",
      "provenance": [],
      "collapsed_sections": [],
      "toc_visible": true,
      "include_colab_link": true
    },
    "kernelspec": {
      "name": "python3",
      "display_name": "Python 3"
    }
  },
  "cells": [
    {
      "cell_type": "markdown",
      "metadata": {
        "id": "view-in-github",
        "colab_type": "text"
      },
      "source": [
        "<a href=\"https://colab.research.google.com/github/KillerStrike17/DeepLearning_for_NLP/blob/master/Recurrent_Neural_Networks_101/SimpleRNN_for_IMDB_Dataset.ipynb\" target=\"_parent\"><img src=\"https://colab.research.google.com/assets/colab-badge.svg\" alt=\"Open In Colab\"/></a>"
      ]
    },
    {
      "cell_type": "markdown",
      "metadata": {
        "id": "7ZGZzbyCB7dZ",
        "colab_type": "text"
      },
      "source": [
        "# Import Libraries"
      ]
    },
    {
      "cell_type": "code",
      "metadata": {
        "id": "UJKcKjnWecLZ",
        "colab_type": "code",
        "colab": {}
      },
      "source": [
        "from keras.layers import SimpleRNN\n",
        "from keras.models import Sequential\n",
        "from keras.layers import Embedding, SimpleRNN\n",
        "from keras.datasets import imdb\n",
        "from keras.preprocessing import sequence\n",
        "from keras.layers import Dense\n",
        "import matplotlib.pyplot as plt"
      ],
      "execution_count": 0,
      "outputs": []
    },
    {
      "cell_type": "markdown",
      "metadata": {
        "id": "yBqqAdj_CGaY",
        "colab_type": "text"
      },
      "source": [
        "# Load Data"
      ]
    },
    {
      "cell_type": "code",
      "metadata": {
        "id": "Vxb3T95BCDCg",
        "colab_type": "code",
        "colab": {
          "base_uri": "https://localhost:8080/",
          "height": 34
        },
        "outputId": "7ce32d8a-9076-419c-f0ba-0e768e4370a1"
      },
      "source": [
        "max_features = 10000 # size of embedding layer\n",
        "maxlen = 500 # number of Sequences\n",
        "batch_size = 32\n",
        "print('Loading data...')"
      ],
      "execution_count": 15,
      "outputs": [
        {
          "output_type": "stream",
          "text": [
            "Loading data...\n"
          ],
          "name": "stdout"
        }
      ]
    },
    {
      "cell_type": "code",
      "metadata": {
        "id": "AGrQV123eeQr",
        "colab_type": "code",
        "colab": {}
      },
      "source": [
        "(input_train, y_train), (input_test, y_test) = imdb.load_data(num_words=max_features)"
      ],
      "execution_count": 0,
      "outputs": []
    },
    {
      "cell_type": "code",
      "metadata": {
        "id": "Q6muyFfRegiP",
        "colab_type": "code",
        "outputId": "6d4313d6-de8f-4b22-f690-9268c274f237",
        "colab": {
          "base_uri": "https://localhost:8080/",
          "height": 69
        }
      },
      "source": [
        "print(len(input_train), 'train sequences')\n",
        "print(len(input_test), 'test sequences')\n",
        "print('Pad sequences (samples x time)')"
      ],
      "execution_count": 17,
      "outputs": [
        {
          "output_type": "stream",
          "text": [
            "25000 train sequences\n",
            "25000 test sequences\n",
            "Pad sequences (samples x time)\n"
          ],
          "name": "stdout"
        }
      ]
    },
    {
      "cell_type": "code",
      "metadata": {
        "id": "WJycVWRXegpF",
        "colab_type": "code",
        "outputId": "dc17a679-9fd1-41db-f976-f6384692b393",
        "colab": {
          "base_uri": "https://localhost:8080/",
          "height": 34
        }
      },
      "source": [
        "# Deciding the number of loops to be run\n",
        "input_train = sequence.pad_sequences(input_train, maxlen=maxlen)\n",
        "input_test = sequence.pad_sequences(input_test, maxlen=maxlen)\n",
        "print('input_train shape:', input_train.shape)"
      ],
      "execution_count": 18,
      "outputs": [
        {
          "output_type": "stream",
          "text": [
            "input_train shape: (25000, 500)\n"
          ],
          "name": "stdout"
        }
      ]
    },
    {
      "cell_type": "markdown",
      "metadata": {
        "id": "0ZVNeEjRCZ3m",
        "colab_type": "text"
      },
      "source": [
        "# Initial Model & Plot"
      ]
    },
    {
      "cell_type": "code",
      "metadata": {
        "id": "W-_e5FzpeiFI",
        "colab_type": "code",
        "outputId": "d4514413-5d4d-49fd-e74c-1bca91acfb54",
        "colab": {
          "base_uri": "https://localhost:8080/",
          "height": 260
        }
      },
      "source": [
        "\n",
        "model = Sequential()\n",
        "model.add(Embedding(max_features, 32))\n",
        "model.add(SimpleRNN(32))\n",
        "model.add(Dense(1))\n",
        "\n",
        "model.summary()"
      ],
      "execution_count": 30,
      "outputs": [
        {
          "output_type": "stream",
          "text": [
            "Model: \"sequential_10\"\n",
            "_________________________________________________________________\n",
            "Layer (type)                 Output Shape              Param #   \n",
            "=================================================================\n",
            "embedding_10 (Embedding)     (None, None, 32)          320000    \n",
            "_________________________________________________________________\n",
            "simple_rnn_12 (SimpleRNN)    (None, 32)                2080      \n",
            "_________________________________________________________________\n",
            "dense_8 (Dense)              (None, 1)                 33        \n",
            "=================================================================\n",
            "Total params: 322,113\n",
            "Trainable params: 322,113\n",
            "Non-trainable params: 0\n",
            "_________________________________________________________________\n"
          ],
          "name": "stdout"
        }
      ]
    },
    {
      "cell_type": "code",
      "metadata": {
        "id": "21F82TCECuOx",
        "colab_type": "code",
        "colab": {
          "base_uri": "https://localhost:8080/",
          "height": 381
        },
        "outputId": "d3aa563a-3688-4b96-d8b0-8b33cb94bb67"
      },
      "source": [
        "model.compile(optimizer='rmsprop', loss='binary_crossentropy', metrics=['acc'])\n",
        "history = model.fit(input_train, y_train,\n",
        "                    epochs=10,\n",
        "                    batch_size=128,\n",
        "                    validation_data=(input_test, y_test))"
      ],
      "execution_count": 31,
      "outputs": [
        {
          "output_type": "stream",
          "text": [
            "Train on 25000 samples, validate on 25000 samples\n",
            "Epoch 1/10\n",
            "25000/25000 [==============================] - 29s 1ms/step - loss: 1.0823 - acc: 0.5518 - val_loss: 0.7216 - val_acc: 0.5782\n",
            "Epoch 2/10\n",
            "25000/25000 [==============================] - 28s 1ms/step - loss: 0.5323 - acc: 0.7523 - val_loss: 0.5695 - val_acc: 0.7399\n",
            "Epoch 3/10\n",
            "25000/25000 [==============================] - 28s 1ms/step - loss: 0.5225 - acc: 0.7544 - val_loss: 0.6539 - val_acc: 0.7119\n",
            "Epoch 4/10\n",
            "25000/25000 [==============================] - 29s 1ms/step - loss: 0.3321 - acc: 0.7762 - val_loss: 0.9264 - val_acc: 0.6993\n",
            "Epoch 5/10\n",
            "25000/25000 [==============================] - 28s 1ms/step - loss: 0.2286 - acc: 0.7545 - val_loss: 1.0716 - val_acc: 0.6490\n",
            "Epoch 6/10\n",
            "25000/25000 [==============================] - 28s 1ms/step - loss: 0.1729 - acc: 0.6651 - val_loss: 1.5907 - val_acc: 0.5981\n",
            "Epoch 7/10\n",
            "25000/25000 [==============================] - 29s 1ms/step - loss: 0.1278 - acc: 0.5468 - val_loss: 1.8038 - val_acc: 0.5293\n",
            "Epoch 8/10\n",
            "25000/25000 [==============================] - 28s 1ms/step - loss: 0.1504 - acc: 0.4758 - val_loss: 1.6498 - val_acc: 0.4955\n",
            "Epoch 9/10\n",
            "25000/25000 [==============================] - 28s 1ms/step - loss: 0.0894 - acc: 0.3554 - val_loss: 1.8974 - val_acc: 0.4313\n",
            "Epoch 10/10\n",
            "25000/25000 [==============================] - 28s 1ms/step - loss: 0.0907 - acc: 0.2857 - val_loss: 1.9013 - val_acc: 0.4041\n"
          ],
          "name": "stdout"
        }
      ]
    },
    {
      "cell_type": "code",
      "metadata": {
        "id": "vsGK_JY-ejXv",
        "colab_type": "code",
        "outputId": "e00dee7e-6245-4b5d-d56a-f89a334c2861",
        "colab": {
          "base_uri": "https://localhost:8080/",
          "height": 545
        }
      },
      "source": [
        "%matplotlib inline\n",
        "\n",
        "acc = history.history['acc']\n",
        "val_acc = history.history['val_acc']\n",
        "loss = history.history['loss']\n",
        "val_loss = history.history['val_loss']\n",
        "epochs = range(1, len(acc) + 1)\n",
        "plt.plot(epochs, acc, 'bo', label='Training ACC')\n",
        "plt.plot(epochs, val_acc, 'b', label='Validation ACC')\n",
        "plt.title('Training and Validation Accuracy')\n",
        "plt.legend()\n",
        "plt.figure()\n",
        "plt.plot(epochs, loss, 'bo', label='Training Loss')\n",
        "plt.plot(epochs, val_loss, 'b', label='Validation Loss')\n",
        "plt.title('Training and Validation Loss')\n",
        "plt.legend()\n",
        "plt.show()"
      ],
      "execution_count": 32,
      "outputs": [
        {
          "output_type": "display_data",
          "data": {
            "image/png": "[encoded data removed]",
            "text/plain": [
              "<Figure size 432x288 with 1 Axes>"
            ]
          },
          "metadata": {
            "tags": []
          }
        },
        {
          "output_type": "display_data",
          "data": {
            "image/png": "[encoded data removed]",
            "text/plain": [
              "<Figure size 432x288 with 1 Axes>"
            ]
          },
          "metadata": {
            "tags": []
          }
        }
      ]
    },
    {
      "cell_type": "markdown",
      "metadata": {
        "id": "hJK00mxaC0Y6",
        "colab_type": "text"
      },
      "source": [
        "# Experiments"
      ]
    },
    {
      "cell_type": "markdown",
      "metadata": {
        "id": "Q50fDv6GC2-7",
        "colab_type": "text"
      },
      "source": [
        "## Experiment 1\n",
        "\n",
        "Add New Layer and test the Model"
      ]
    },
    {
      "cell_type": "code",
      "metadata": {
        "id": "Xdi5DZf8elBw",
        "colab_type": "code",
        "colab": {
          "base_uri": "https://localhost:8080/",
          "height": 294
        },
        "outputId": "dfb2c720-ab84-4845-9c0e-943a0e0bb8c5"
      },
      "source": [
        "\n",
        "model = Sequential()\n",
        "model.add(Embedding(max_features, 32))\n",
        "model.add(SimpleRNN(32,return_sequences =True))\n",
        "model.add(SimpleRNN(64))\n",
        "model.add(Dense(1))\n",
        "\n",
        "model.summary()"
      ],
      "execution_count": 33,
      "outputs": [
        {
          "output_type": "stream",
          "text": [
            "Model: \"sequential_11\"\n",
            "_________________________________________________________________\n",
            "Layer (type)                 Output Shape              Param #   \n",
            "=================================================================\n",
            "embedding_11 (Embedding)     (None, None, 32)          320000    \n",
            "_________________________________________________________________\n",
            "simple_rnn_13 (SimpleRNN)    (None, None, 32)          2080      \n",
            "_________________________________________________________________\n",
            "simple_rnn_14 (SimpleRNN)    (None, 64)                6208      \n",
            "_________________________________________________________________\n",
            "dense_9 (Dense)              (None, 1)                 65        \n",
            "=================================================================\n",
            "Total params: 328,353\n",
            "Trainable params: 328,353\n",
            "Non-trainable params: 0\n",
            "_________________________________________________________________\n"
          ],
          "name": "stdout"
        }
      ]
    },
    {
      "cell_type": "code",
      "metadata": {
        "id": "xyMy5Ao8DY1y",
        "colab_type": "code",
        "colab": {
          "base_uri": "https://localhost:8080/",
          "height": 173
        },
        "outputId": "7c7fa67b-3c0a-4ed4-a2c0-efab08895188"
      },
      "source": [
        "model.compile(optimizer='rmsprop', loss='binary_crossentropy', metrics=['acc'])\n",
        "history = model.fit(input_train, y_train,\n",
        "                    epochs=10,\n",
        "                    batch_size=128,\n",
        "                    validation_data=(input_test, y_test))"
      ],
      "execution_count": 0,
      "outputs": [
        {
          "output_type": "stream",
          "text": [
            "Train on 25000 samples, validate on 25000 samples\n",
            "Epoch 1/10\n",
            "25000/25000 [==============================] - 69s 3ms/step - loss: 0.8319 - acc: 0.5595 - val_loss: 0.5968 - val_acc: 0.6815\n",
            "Epoch 2/10\n",
            "25000/25000 [==============================] - 68s 3ms/step - loss: 0.8319 - acc: 0.7274 - val_loss: 1.9329 - val_acc: 0.5594\n",
            "Epoch 3/10\n",
            "25000/25000 [==============================] - 69s 3ms/step - loss: 0.4753 - acc: 0.8227 - val_loss: 0.5894 - val_acc: 0.7512\n",
            "Epoch 4/10\n",
            "24960/25000 [============================>.] - ETA: 0s - loss: 0.3786 - acc: 0.8229"
          ],
          "name": "stdout"
        }
      ]
    },
    {
      "cell_type": "code",
      "metadata": {
        "id": "x7hfDjfRDanw",
        "colab_type": "code",
        "colab": {}
      },
      "source": [
        "%matplotlib inline\n",
        "\n",
        "acc = history.history['acc']\n",
        "val_acc = history.history['val_acc']\n",
        "loss = history.history['loss']\n",
        "val_loss = history.history['val_loss']\n",
        "epochs = range(1, len(acc) + 1)\n",
        "plt.plot(epochs, acc, 'bo', label='Training ACC')\n",
        "plt.plot(epochs, val_acc, 'b', label='Validation ACC')\n",
        "plt.title('Training and Validation Accuracy')\n",
        "plt.legend()\n",
        "plt.figure()\n",
        "plt.plot(epochs, loss, 'bo', label='Training Loss')\n",
        "plt.plot(epochs, val_loss, 'b', label='Validation Loss')\n",
        "plt.title('Training and Validation Loss')\n",
        "plt.legend()\n",
        "plt.show()"
      ],
      "execution_count": 0,
      "outputs": []
    },
    {
      "cell_type": "markdown",
      "metadata": {
        "id": "Sktyyh6RD2IT",
        "colab_type": "text"
      },
      "source": [
        "## Experiment 2\n",
        "\n",
        "Replace final Layer activation as Relu"
      ]
    },
    {
      "cell_type": "code",
      "metadata": {
        "id": "2qpVQxs-D46Y",
        "colab_type": "code",
        "colab": {
          "base_uri": "https://localhost:8080/",
          "height": 260
        },
        "outputId": "e95f05fc-b05b-4573-cefb-194f01eb3668"
      },
      "source": [
        "\n",
        "model = Sequential()\n",
        "model.add(Embedding(max_features, 32))\n",
        "model.add(SimpleRNN(32))\n",
        "model.add(Dense(1, activation='relu'))\n",
        "\n",
        "model.summary()"
      ],
      "execution_count": 25,
      "outputs": [
        {
          "output_type": "stream",
          "text": [
            "Model: \"sequential_9\"\n",
            "_________________________________________________________________\n",
            "Layer (type)                 Output Shape              Param #   \n",
            "=================================================================\n",
            "embedding_9 (Embedding)      (None, None, 32)          320000    \n",
            "_________________________________________________________________\n",
            "simple_rnn_11 (SimpleRNN)    (None, 32)                2080      \n",
            "_________________________________________________________________\n",
            "dense_7 (Dense)              (None, 1)                 33        \n",
            "=================================================================\n",
            "Total params: 322,113\n",
            "Trainable params: 322,113\n",
            "Non-trainable params: 0\n",
            "_________________________________________________________________\n"
          ],
          "name": "stdout"
        }
      ]
    },
    {
      "cell_type": "code",
      "metadata": {
        "id": "1_SO-bBiEiP4",
        "colab_type": "code",
        "colab": {
          "base_uri": "https://localhost:8080/",
          "height": 381
        },
        "outputId": "dec839fd-323f-4970-bb5d-86caa4ccceaa"
      },
      "source": [
        "model.compile(optimizer='rmsprop', loss='binary_crossentropy', metrics=['acc'])\n",
        "history = model.fit(input_train, y_train,\n",
        "                    epochs=10,\n",
        "                    batch_size=128,\n",
        "                    validation_data=(input_test, y_test))"
      ],
      "execution_count": 28,
      "outputs": [
        {
          "output_type": "stream",
          "text": [
            "Train on 25000 samples, validate on 25000 samples\n",
            "Epoch 1/10\n",
            "25000/25000 [==============================] - 30s 1ms/step - loss: 0.4726 - acc: 0.8499 - val_loss: 0.5888 - val_acc: 0.7969\n",
            "Epoch 2/10\n",
            "25000/25000 [==============================] - 29s 1ms/step - loss: 0.3278 - acc: 0.9046 - val_loss: 0.7274 - val_acc: 0.8366\n",
            "Epoch 3/10\n",
            "25000/25000 [==============================] - 28s 1ms/step - loss: 0.2291 - acc: 0.9274 - val_loss: 1.1658 - val_acc: 0.7021\n",
            "Epoch 4/10\n",
            "25000/25000 [==============================] - 28s 1ms/step - loss: 0.1771 - acc: 0.8973 - val_loss: 0.9976 - val_acc: 0.7819\n",
            "Epoch 5/10\n",
            "25000/25000 [==============================] - 29s 1ms/step - loss: 0.1390 - acc: 0.8501 - val_loss: 1.2625 - val_acc: 0.7590\n",
            "Epoch 6/10\n",
            "25000/25000 [==============================] - 28s 1ms/step - loss: 0.1095 - acc: 0.7652 - val_loss: 1.4354 - val_acc: 0.7044\n",
            "Epoch 7/10\n",
            "25000/25000 [==============================] - 28s 1ms/step - loss: 0.0976 - acc: 0.6940 - val_loss: 1.5462 - val_acc: 0.6865\n",
            "Epoch 8/10\n",
            "25000/25000 [==============================] - 28s 1ms/step - loss: 0.0861 - acc: 0.6642 - val_loss: 1.7414 - val_acc: 0.6431\n",
            "Epoch 9/10\n",
            "25000/25000 [==============================] - 28s 1ms/step - loss: 0.0929 - acc: 0.6200 - val_loss: 1.8700 - val_acc: 0.6097\n",
            "Epoch 10/10\n",
            "25000/25000 [==============================] - 28s 1ms/step - loss: 0.0866 - acc: 0.5967 - val_loss: 1.8106 - val_acc: 0.6175\n"
          ],
          "name": "stdout"
        }
      ]
    },
    {
      "cell_type": "code",
      "metadata": {
        "id": "w0NS3kStEk0A",
        "colab_type": "code",
        "colab": {
          "base_uri": "https://localhost:8080/",
          "height": 545
        },
        "outputId": "af700dde-ad4b-4837-e08a-dc9c3f3f5ed3"
      },
      "source": [
        "%matplotlib inline\n",
        "\n",
        "acc = history.history['acc']\n",
        "val_acc = history.history['val_acc']\n",
        "loss = history.history['loss']\n",
        "val_loss = history.history['val_loss']\n",
        "epochs = range(1, len(acc) + 1)\n",
        "plt.plot(epochs, acc, 'bo', label='Training ACC')\n",
        "plt.plot(epochs, val_acc, 'b', label='Validation ACC')\n",
        "plt.title('Training and Validation Accuracy')\n",
        "plt.legend()\n",
        "plt.figure()\n",
        "plt.plot(epochs, loss, 'bo', label='Training Loss')\n",
        "plt.plot(epochs, val_loss, 'b', label='Validation Loss')\n",
        "plt.title('Training and Validation Loss')\n",
        "plt.legend()\n",
        "plt.show()"
      ],
      "execution_count": 29,
      "outputs": [
        {
          "output_type": "display_data",
          "data": {
            "image/png": "[encoded data removed]",
            "text/plain": [
              "<Figure size 432x288 with 1 Axes>"
            ]
          },
          "metadata": {
            "tags": []
          }
        },
        {
          "output_type": "display_data",
          "data": {
            "image/png": "[encoded data removed]",
            "text/plain": [
              "<Figure size 432x288 with 1 Axes>"
            ]
          },
          "metadata": {
            "tags": []
          }
        }
      ]
    },
    {
      "cell_type": "code",
      "metadata": {
        "id": "hBH-0CG1IiTO",
        "colab_type": "code",
        "colab": {}
      },
      "source": [
        ""
      ],
      "execution_count": 0,
      "outputs": []
    }
  ]
}